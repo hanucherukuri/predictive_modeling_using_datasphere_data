{
 "cells": [
  {
   "cell_type": "markdown",
   "metadata": {
    "application/vnd.databricks.v1+cell": {
     "cellMetadata": {},
     "inputWidgets": {},
     "nuid": "26c061aa-fc24-4f30-ae8b-00a9ba1ffaa9",
     "showTitle": false,
     "title": ""
    }
   },
   "source": [
    "Data Acquisition and connections"
   ]
  },
  {
   "cell_type": "code",
   "execution_count": 0,
   "metadata": {
    "application/vnd.databricks.v1+cell": {
     "cellMetadata": {
      "byteLimit": 2048000,
      "rowLimit": 10000
     },
     "inputWidgets": {},
     "nuid": "e0fcbff2-5ad6-4754-bebe-958acb7fec91",
     "showTitle": false,
     "title": ""
    }
   },
   "outputs": [
    {
     "output_type": "display_data",
     "data": {
      "text/html": [
       "<style scoped>\n",
       "  .ansiout {\n",
       "    display: block;\n",
       "    unicode-bidi: embed;\n",
       "    white-space: pre-wrap;\n",
       "    word-wrap: break-word;\n",
       "    word-break: break-all;\n",
       "    font-family: \"Menlo\", \"Monaco\", \"Consolas\", \"Ubuntu Mono\", \"Source Code Pro\", monospace;\n",
       "    font-size: 13px;\n",
       "    color: #555;\n",
       "    margin-left: 4px;\n",
       "    line-height: 19px;\n",
       "  }\n",
       "</style>\n",
       "<div class=\"ansiout\">import org.apache.spark.sql.SparkSession\n",
       "spark: org.apache.spark.sql.SparkSession = org.apache.spark.sql.SparkSession@7f7c940a\n",
       "jdbcUrl: String = jdbc:sap://d8f86797-d0b3-4263-9058-805193d7b941.hna0.prod-eu10.hanacloud.ondemand.com:443\n",
       "connectionProperties: java.util.Properties = {user=DWCDBUSER#DATABRICKS, password=(`&lt;Kal%U7mp5]u7&lt;, driver=com.sap.db.jdbc.Driver}\n",
       "res1: Object = null\n",
       "</div>"
      ]
     },
     "metadata": {
      "application/vnd.databricks.v1+output": {
       "addedWidgets": {},
       "arguments": {},
       "data": "<div class=\"ansiout\">import org.apache.spark.sql.SparkSession\nspark: org.apache.spark.sql.SparkSession = org.apache.spark.sql.SparkSession@7f7c940a\njdbcUrl: String = jdbc:sap://d8f86797-d0b3-4263-9058-805193d7b941.hna0.prod-eu10.hanacloud.ondemand.com:443\nconnectionProperties: java.util.Properties = {user=DWCDBUSER#DATABRICKS, password=(`&lt;Kal%U7mp5]u7&lt;, driver=com.sap.db.jdbc.Driver}\nres1: Object = null\n</div>",
       "datasetInfos": [],
       "metadata": {
        "isDbfsCommandResult": false
       },
       "removedWidgets": [],
       "type": "html"
      }
     },
     "output_type": "display_data"
    }
   ],
   "source": [
    "%scala\n",
    "import org.apache.spark.sql.SparkSession\n",
    "\n",
    "val spark = SparkSession.builder()\n",
    "  .appName(\"SAP HANA Connection\")\n",
    "  .config(\"spark.jars\", \"dbfs:/FileStore/jars/9b273499_9648_4afe_834d_e36803698a91-ngdbc_2_19_16-2221a.jar\")\n",
    "  .getOrCreate()\n",
    "\n",
    "val jdbcUrl = \"jdbc:sap://d8f86797-d0b3-4263-9058-805193d7b941.hna0.prod-eu10.hanacloud.ondemand.com:443\"\n",
    "val connectionProperties = new java.util.Properties()\n",
    "connectionProperties.put(\"user\", \"DWCDBUSER#DATABRICKS\")\n",
    "connectionProperties.put(\"password\", \"(`<Kal%U7mp5]u7<\")\n",
    "connectionProperties.put(\"driver\", \"com.sap.db.jdbc.Driver\")"
   ]
  },
  {
   "cell_type": "code",
   "execution_count": 0,
   "metadata": {
    "application/vnd.databricks.v1+cell": {
     "cellMetadata": {
      "byteLimit": 2048000,
      "rowLimit": 10000
     },
     "inputWidgets": {},
     "nuid": "7743ec1b-9b9d-435d-a839-0f8c2e957dda",
     "showTitle": false,
     "title": ""
    }
   },
   "outputs": [
    {
     "output_type": "display_data",
     "data": {
      "text/html": [
       "<style scoped>\n",
       "  .ansiout {\n",
       "    display: block;\n",
       "    unicode-bidi: embed;\n",
       "    white-space: pre-wrap;\n",
       "    word-wrap: break-word;\n",
       "    word-break: break-all;\n",
       "    font-family: \"Menlo\", \"Monaco\", \"Consolas\", \"Ubuntu Mono\", \"Source Code Pro\", monospace;\n",
       "    font-size: 13px;\n",
       "    color: #555;\n",
       "    margin-left: 4px;\n",
       "    line-height: 19px;\n",
       "  }\n",
       "</style>\n",
       "<div class=\"ansiout\">query1: String = (SELECT * FROM SB_TEST.VW_BIG_MART_TRAIN_DATA) AS SUBQUERY\n",
       "df1: org.apache.spark.sql.DataFrame = [Item_Identifier: string, Item_Weight: decimal(38,19) ... 10 more fields]\n",
       "</div>"
      ]
     },
     "metadata": {
      "application/vnd.databricks.v1+output": {
       "addedWidgets": {},
       "arguments": {},
       "data": "<div class=\"ansiout\">query1: String = (SELECT * FROM SB_TEST.VW_BIG_MART_TRAIN_DATA) AS SUBQUERY\ndf1: org.apache.spark.sql.DataFrame = [Item_Identifier: string, Item_Weight: decimal(38,19) ... 10 more fields]\n</div>",
       "datasetInfos": [
        {
         "name": "df1",
         "schema": {
          "fields": [
           {
            "metadata": {
             "scale": 0
            },
            "name": "Item_Identifier",
            "nullable": true,
            "type": "string"
           },
           {
            "metadata": {
             "scale": 19
            },
            "name": "Item_Weight",
            "nullable": true,
            "type": "decimal(38,19)"
           },
           {
            "metadata": {
             "scale": 0
            },
            "name": "Item_Fat_Content",
            "nullable": true,
            "type": "string"
           },
           {
            "metadata": {
             "scale": 19
            },
            "name": "Item_Visibility",
            "nullable": true,
            "type": "decimal(38,19)"
           },
           {
            "metadata": {
             "scale": 0
            },
            "name": "Item_Type",
            "nullable": true,
            "type": "string"
           },
           {
            "metadata": {
             "scale": 19
            },
            "name": "Item_MRP",
            "nullable": true,
            "type": "decimal(38,19)"
           },
           {
            "metadata": {
             "scale": 0
            },
            "name": "Outlet_Identifier",
            "nullable": true,
            "type": "string"
           },
           {
            "metadata": {
             "scale": 0
            },
            "name": "Outlet_Establishment_Year",
            "nullable": true,
            "type": "long"
           },
           {
            "metadata": {
             "scale": 0
            },
            "name": "Outlet_Size",
            "nullable": true,
            "type": "string"
           },
           {
            "metadata": {
             "scale": 0
            },
            "name": "Outlet_Location_Type",
            "nullable": true,
            "type": "string"
           },
           {
            "metadata": {
             "scale": 0
            },
            "name": "Outlet_Type",
            "nullable": true,
            "type": "string"
           },
           {
            "metadata": {
             "scale": 19
            },
            "name": "Item_Outlet_Sales",
            "nullable": true,
            "type": "decimal(38,19)"
           }
          ],
          "type": "struct"
         },
         "tableIdentifier": null,
         "typeStr": "org.apache.spark.sql.DataFrame"
        }
       ],
       "metadata": {
        "isDbfsCommandResult": false
       },
       "removedWidgets": [],
       "type": "html"
      }
     },
     "output_type": "display_data"
    }
   ],
   "source": [
    "%scala\n",
    "val query1 = \"(SELECT * FROM SB_TEST.VW_BIG_MART_TRAIN_DATA) AS SUBQUERY\"\n",
    "val df1 = spark.read.jdbc(jdbcUrl, query1, connectionProperties)\n",
    "df1.createOrReplaceTempView(\"BIG_MART_TRAIN_DATA\")\n"
   ]
  },
  {
   "cell_type": "code",
   "execution_count": 0,
   "metadata": {
    "application/vnd.databricks.v1+cell": {
     "cellMetadata": {
      "byteLimit": 2048000,
      "rowLimit": 10000
     },
     "inputWidgets": {},
     "nuid": "c2b849bf-1d7f-4dce-84c4-6249c23f4aec",
     "showTitle": false,
     "title": ""
    }
   },
   "outputs": [
    {
     "output_type": "display_data",
     "data": {
      "text/html": [
       "<style scoped>\n",
       "  .ansiout {\n",
       "    display: block;\n",
       "    unicode-bidi: embed;\n",
       "    white-space: pre-wrap;\n",
       "    word-wrap: break-word;\n",
       "    word-break: break-all;\n",
       "    font-family: \"Menlo\", \"Monaco\", \"Consolas\", \"Ubuntu Mono\", \"Source Code Pro\", monospace;\n",
       "    font-size: 13px;\n",
       "    color: #555;\n",
       "    margin-left: 4px;\n",
       "    line-height: 19px;\n",
       "  }\n",
       "</style>\n",
       "<div class=\"ansiout\">query2: String = (SELECT * FROM SB_TEST.VW_BIG_MART_TEST_DATA) AS SUBQUERY\n",
       "df2: org.apache.spark.sql.DataFrame = [Item_Identifier: string, Item_Weight: decimal(38,19) ... 9 more fields]\n",
       "</div>"
      ]
     },
     "metadata": {
      "application/vnd.databricks.v1+output": {
       "addedWidgets": {},
       "arguments": {},
       "data": "<div class=\"ansiout\">query2: String = (SELECT * FROM SB_TEST.VW_BIG_MART_TEST_DATA) AS SUBQUERY\ndf2: org.apache.spark.sql.DataFrame = [Item_Identifier: string, Item_Weight: decimal(38,19) ... 9 more fields]\n</div>",
       "datasetInfos": [
        {
         "name": "df2",
         "schema": {
          "fields": [
           {
            "metadata": {
             "scale": 0
            },
            "name": "Item_Identifier",
            "nullable": true,
            "type": "string"
           },
           {
            "metadata": {
             "scale": 19
            },
            "name": "Item_Weight",
            "nullable": true,
            "type": "decimal(38,19)"
           },
           {
            "metadata": {
             "scale": 0
            },
            "name": "Item_Fat_Content",
            "nullable": true,
            "type": "string"
           },
           {
            "metadata": {
             "scale": 19
            },
            "name": "Item_Visibility",
            "nullable": true,
            "type": "decimal(38,19)"
           },
           {
            "metadata": {
             "scale": 0
            },
            "name": "Item_Type",
            "nullable": true,
            "type": "string"
           },
           {
            "metadata": {
             "scale": 19
            },
            "name": "Item_MRP",
            "nullable": true,
            "type": "decimal(38,19)"
           },
           {
            "metadata": {
             "scale": 0
            },
            "name": "Outlet_Identifier",
            "nullable": true,
            "type": "string"
           },
           {
            "metadata": {
             "scale": 0
            },
            "name": "Outlet_Establishment_Year",
            "nullable": true,
            "type": "long"
           },
           {
            "metadata": {
             "scale": 0
            },
            "name": "Outlet_Size",
            "nullable": true,
            "type": "string"
           },
           {
            "metadata": {
             "scale": 0
            },
            "name": "Outlet_Location_Type",
            "nullable": true,
            "type": "string"
           },
           {
            "metadata": {
             "scale": 0
            },
            "name": "Outlet_Type",
            "nullable": true,
            "type": "string"
           }
          ],
          "type": "struct"
         },
         "tableIdentifier": null,
         "typeStr": "org.apache.spark.sql.DataFrame"
        }
       ],
       "metadata": {
        "isDbfsCommandResult": false
       },
       "removedWidgets": [],
       "type": "html"
      }
     },
     "output_type": "display_data"
    }
   ],
   "source": [
    "%scala\n",
    "val query2 = \"(SELECT * FROM SB_TEST.VW_BIG_MART_TEST_DATA) AS SUBQUERY\"\n",
    "val df2 = spark.read.jdbc(jdbcUrl, query2, connectionProperties)\n",
    "df2.createOrReplaceTempView(\"BIG_MART_TEST_DATA\")"
   ]
  },
  {
   "cell_type": "markdown",
   "metadata": {
    "application/vnd.databricks.v1+cell": {
     "cellMetadata": {},
     "inputWidgets": {},
     "nuid": "07ab2cad-245a-4ec2-977d-95fb43ee2a43",
     "showTitle": false,
     "title": ""
    }
   },
   "source": [
    "Analyse the SAP Data"
   ]
  },
  {
   "cell_type": "code",
   "execution_count": 0,
   "metadata": {
    "application/vnd.databricks.v1+cell": {
     "cellMetadata": {
      "byteLimit": 2048000,
      "implicitDf": true,
      "rowLimit": 10000
     },
     "inputWidgets": {},
     "nuid": "72081a4e-e0cd-45e8-960a-caba7beffc4d",
     "showTitle": false,
     "title": ""
    }
   },
   "outputs": [
    {
     "output_type": "display_data",
     "data": {
      "text/html": [
       "<style scoped>\n",
       "  .table-result-container {\n",
       "    max-height: 300px;\n",
       "    overflow: auto;\n",
       "  }\n",
       "  table, th, td {\n",
       "    border: 1px solid black;\n",
       "    border-collapse: collapse;\n",
       "  }\n",
       "  th, td {\n",
       "    padding: 5px;\n",
       "  }\n",
       "  th {\n",
       "    text-align: left;\n",
       "  }\n",
       "</style><div class='table-result-container'><table class='table-result'><thead style='background-color: white'><tr><th>Item_Identifier</th><th>Item_Weight</th><th>Item_Fat_Content</th><th>Item_Visibility</th><th>Item_Type</th><th>Item_MRP</th><th>Outlet_Identifier</th><th>Outlet_Establishment_Year</th><th>Outlet_Size</th><th>Outlet_Location_Type</th><th>Outlet_Type</th></tr></thead><tbody><tr><td>FDW58</td><td>20.7500000000000000000</td><td>Low Fat</td><td>0.0075648360000000000</td><td>Snack Foods</td><td>107.8622000000000000000</td><td>OUT049</td><td>1999</td><td>Medium</td><td>Tier 1</td><td>Supermarket Type1</td></tr><tr><td>FDW14</td><td>8.3000000000000000000</td><td>reg</td><td>0.0384276770000000000</td><td>Dairy</td><td>87.3198000000000000000</td><td>OUT017</td><td>2007</td><td></td><td>Tier 2</td><td>Supermarket Type1</td></tr><tr><td>NCN55</td><td>14.6000000000000000000</td><td>Low Fat</td><td>0.0995749080000000000</td><td>Others</td><td>241.7538000000000000000</td><td>OUT010</td><td>1998</td><td></td><td>Tier 3</td><td>Grocery Store</td></tr><tr><td>FDQ58</td><td>7.3150000000000000000</td><td>Low Fat</td><td>0.0153883930000000000</td><td>Snack Foods</td><td>155.0340000000000000000</td><td>OUT017</td><td>2007</td><td></td><td>Tier 2</td><td>Supermarket Type1</td></tr><tr><td>FDY38</td><td>null</td><td>Regular</td><td>0.1185993140000000000</td><td>Dairy</td><td>234.2300000000000000000</td><td>OUT027</td><td>1985</td><td>Medium</td><td>Tier 3</td><td>Supermarket Type3</td></tr><tr><td>FDH56</td><td>9.8000000000000000000</td><td>Regular</td><td>0.0638172060000000000</td><td>Fruits and Vegetables</td><td>117.1492000000000000000</td><td>OUT046</td><td>1997</td><td>Small</td><td>Tier 1</td><td>Supermarket Type1</td></tr><tr><td>FDL48</td><td>19.3500000000000000000</td><td>Regular</td><td>0.0826015370000000000</td><td>Baking Goods</td><td>50.1034000000000000000</td><td>OUT018</td><td>2009</td><td>Medium</td><td>Tier 3</td><td>Supermarket Type2</td></tr><tr><td>FDC48</td><td>null</td><td>Low Fat</td><td>0.0157824950000000000</td><td>Baking Goods</td><td>81.0592000000000000000</td><td>OUT027</td><td>1985</td><td>Medium</td><td>Tier 3</td><td>Supermarket Type3</td></tr><tr><td>FDN33</td><td>6.3050000000000000000</td><td>Regular</td><td>0.1233654460000000000</td><td>Snack Foods</td><td>95.7436000000000000000</td><td>OUT045</td><td>2002</td><td></td><td>Tier 2</td><td>Supermarket Type1</td></tr><tr><td>FDA36</td><td>5.9850000000000000000</td><td>Low Fat</td><td>0.0056984350000000000</td><td>Baking Goods</td><td>186.8924000000000000000</td><td>OUT017</td><td>2007</td><td></td><td>Tier 2</td><td>Supermarket Type1</td></tr><tr><td>FDT44</td><td>16.6000000000000000000</td><td>Low Fat</td><td>0.1035690750000000000</td><td>Fruits and Vegetables</td><td>118.3466000000000000000</td><td>OUT017</td><td>2007</td><td></td><td>Tier 2</td><td>Supermarket Type1</td></tr><tr><td>FDQ56</td><td>6.5900000000000000000</td><td>Low Fat</td><td>0.1058114700000000000</td><td>Fruits and Vegetables</td><td>85.3908000000000000000</td><td>OUT045</td><td>2002</td><td></td><td>Tier 2</td><td>Supermarket Type1</td></tr><tr><td>NCC54</td><td>null</td><td>Low Fat</td><td>0.1710792150000000000</td><td>Health and Hygiene</td><td>240.4196000000000000000</td><td>OUT019</td><td>1985</td><td>Small</td><td>Tier 1</td><td>Grocery Store</td></tr><tr><td>FDU11</td><td>4.7850000000000000000</td><td>Low Fat</td><td>0.0927376110000000000</td><td>Breads</td><td>122.3098000000000000000</td><td>OUT049</td><td>1999</td><td>Medium</td><td>Tier 1</td><td>Supermarket Type1</td></tr><tr><td>DRL59</td><td>16.7500000000000000000</td><td>LF</td><td>0.0212064640000000000</td><td>Hard Drinks</td><td>52.0298000000000000000</td><td>OUT013</td><td>1987</td><td>High</td><td>Tier 3</td><td>Supermarket Type1</td></tr><tr><td>FDM24</td><td>6.1350000000000000000</td><td>Regular</td><td>0.0794507000000000000</td><td>Baking Goods</td><td>151.6366000000000000000</td><td>OUT049</td><td>1999</td><td>Medium</td><td>Tier 1</td><td>Supermarket Type1</td></tr><tr><td>FDI57</td><td>19.8500000000000000000</td><td>Low Fat</td><td>0.0541352100000000000</td><td>Seafood</td><td>198.7768000000000000000</td><td>OUT045</td><td>2002</td><td></td><td>Tier 2</td><td>Supermarket Type1</td></tr><tr><td>DRC12</td><td>17.8500000000000000000</td><td>Low Fat</td><td>0.0379809630000000000</td><td>Soft Drinks</td><td>192.2188000000000000000</td><td>OUT018</td><td>2009</td><td>Medium</td><td>Tier 3</td><td>Supermarket Type2</td></tr><tr><td>NCM42</td><td>null</td><td>Low Fat</td><td>0.0281843440000000000</td><td>Household</td><td>109.6912000000000000000</td><td>OUT027</td><td>1985</td><td>Medium</td><td>Tier 3</td><td>Supermarket Type3</td></tr><tr><td>FDA46</td><td>13.6000000000000000000</td><td>Low Fat</td><td>0.1968976370000000000</td><td>Snack Foods</td><td>193.7136000000000000000</td><td>OUT010</td><td>1998</td><td></td><td>Tier 3</td><td>Grocery Store</td></tr><tr><td>FDA31</td><td>7.1000000000000000000</td><td>Low Fat</td><td>0.1099201380000000000</td><td>Fruits and Vegetables</td><td>175.0080000000000000000</td><td>OUT013</td><td>1987</td><td>High</td><td>Tier 3</td><td>Supermarket Type1</td></tr><tr><td>NCJ31</td><td>19.2000000000000000000</td><td>Low Fat</td><td>0.1826192350000000000</td><td>Others</td><td>239.9196000000000000000</td><td>OUT035</td><td>2004</td><td>Small</td><td>Tier 2</td><td>Supermarket Type1</td></tr><tr><td>FDG52</td><td>13.6500000000000000000</td><td>LF</td><td>0.0656308440000000000</td><td>Frozen Foods</td><td>47.7402000000000000000</td><td>OUT046</td><td>1997</td><td>Small</td><td>Tier 1</td><td>Supermarket Type1</td></tr><tr><td>NCL19</td><td>null</td><td>Low Fat</td><td>0.0274470570000000000</td><td>Others</td><td>142.3470000000000000000</td><td>OUT019</td><td>1985</td><td>Small</td><td>Tier 1</td><td>Grocery Store</td></tr><tr><td>FDS10</td><td>19.2000000000000000000</td><td>Low Fat</td><td>0.0351789350000000000</td><td>Snack Foods</td><td>180.7318000000000000000</td><td>OUT035</td><td>2004</td><td>Small</td><td>Tier 2</td><td>Supermarket Type1</td></tr><tr><td>FDX22</td><td>6.7850000000000000000</td><td>Regular</td><td>0.0384551250000000000</td><td>Snack Foods</td><td>209.4928000000000000000</td><td>OUT010</td><td>1998</td><td></td><td>Tier 3</td><td>Grocery Store</td></tr><tr><td>NCF19</td><td>13.0000000000000000000</td><td>Low Fat</td><td>0.0351020940000000000</td><td>Household</td><td>47.6034000000000000000</td><td>OUT035</td><td>2004</td><td>Small</td><td>Tier 2</td><td>Supermarket Type1</td></tr><tr><td>NCE06</td><td>5.8250000000000000000</td><td>Low Fat</td><td>0.0914852320000000000</td><td>Household</td><td>161.3894000000000000000</td><td>OUT046</td><td>1997</td><td>Small</td><td>Tier 1</td><td>Supermarket Type1</td></tr><tr><td>DRC27</td><td>13.8000000000000000000</td><td>Low Fat</td><td>0.0581024690000000000</td><td>Dairy</td><td>244.6802000000000000000</td><td>OUT046</td><td>1997</td><td>Small</td><td>Tier 1</td><td>Supermarket Type1</td></tr><tr><td>FDE21</td><td>12.8000000000000000000</td><td>LF</td><td>0.0229403490000000000</td><td>Fruits and Vegetables</td><td>116.5492000000000000000</td><td>OUT035</td><td>2004</td><td>Small</td><td>Tier 2</td><td>Supermarket Type1</td></tr><tr><td>NCR42</td><td>null</td><td>Low Fat</td><td>0.0673768100000000000</td><td>Household</td><td>32.0900000000000000000</td><td>OUT019</td><td>1985</td><td>Small</td><td>Tier 1</td><td>Grocery Store</td></tr><tr><td>FDX51</td><td>9.5000000000000000000</td><td>Regular</td><td>0.0221485820000000000</td><td>Meat</td><td>194.9452000000000000000</td><td>OUT018</td><td>2009</td><td>Medium</td><td>Tier 3</td><td>Supermarket Type2</td></tr><tr><td>NCR06</td><td>12.5000000000000000000</td><td>Low Fat</td><td>0.0067927070000000000</td><td>Household</td><td>42.4112000000000000000</td><td>OUT018</td><td>2009</td><td>Medium</td><td>Tier 3</td><td>Supermarket Type2</td></tr><tr><td>FDU31</td><td>null</td><td>Regular</td><td>0.0248700350000000000</td><td>Fruits and Vegetables</td><td>217.7508000000000000000</td><td>OUT027</td><td>1985</td><td>Medium</td><td>Tier 3</td><td>Supermarket Type3</td></tr><tr><td>FDU59</td><td>5.7800000000000000000</td><td>Low Fat</td><td>0.0969314260000000000</td><td>Breads</td><td>164.2552000000000000000</td><td>OUT017</td><td>2007</td><td></td><td>Tier 2</td><td>Supermarket Type1</td></tr><tr><td>FDR03</td><td>null</td><td>Regular</td><td>0.0086936320000000000</td><td>Meat</td><td>205.0980000000000000000</td><td>OUT027</td><td>1985</td><td>Medium</td><td>Tier 3</td><td>Supermarket Type3</td></tr><tr><td>FDS49</td><td>null</td><td>Low Fat</td><td>0.0789612840000000000</td><td>Canned</td><td>80.3644000000000000000</td><td>OUT027</td><td>1985</td><td>Medium</td><td>Tier 3</td><td>Supermarket Type3</td></tr><tr><td>FDD48</td><td>10.3950000000000000000</td><td>Low Fat</td><td>0.0504794630000000000</td><td>Baking Goods</td><td>114.0176000000000000000</td><td>OUT010</td><td>1998</td><td></td><td>Tier 3</td><td>Grocery Store</td></tr><tr><td>NCF18</td><td>18.3500000000000000000</td><td>Low Fat</td><td>0.0894859180000000000</td><td>Household</td><td>192.1504000000000000000</td><td>OUT017</td><td>2007</td><td></td><td>Tier 2</td><td>Supermarket Type1</td></tr><tr><td>NCD43</td><td>null</td><td>Low Fat</td><td>0.0159423800000000000</td><td>Household</td><td>103.3964000000000000000</td><td>OUT027</td><td>1985</td><td>Medium</td><td>Tier 3</td><td>Supermarket Type3</td></tr><tr><td>NCD54</td><td>21.1000000000000000000</td><td>Low Fat</td><td>0.0291271150000000000</td><td>Household</td><td>143.3786000000000000000</td><td>OUT018</td><td>2009</td><td>Medium</td><td>Tier 3</td><td>Supermarket Type2</td></tr><tr><td>FDY19</td><td>19.7500000000000000000</td><td>LF</td><td>0.0692364210000000000</td><td>Fruits and Vegetables</td><td>116.6466000000000000000</td><td>OUT010</td><td>1998</td><td></td><td>Tier 3</td><td>Grocery Store</td></tr><tr><td>NCY54</td><td>8.4300000000000000000</td><td>Low Fat</td><td>0.1786999610000000000</td><td>Household</td><td>173.9422000000000000000</td><td>OUT017</td><td>2007</td><td></td><td>Tier 2</td><td>Supermarket Type1</td></tr><tr><td>NCL19</td><td>15.3500000000000000000</td><td>Low Fat</td><td>0.0157400890000000000</td><td>Others</td><td>144.8470000000000000000</td><td>OUT018</td><td>2009</td><td>Medium</td><td>Tier 3</td><td>Supermarket Type2</td></tr><tr><td>FDP23</td><td>6.7100000000000000000</td><td>Low Fat</td><td>0.0595651070000000000</td><td>Breads</td><td>217.2166000000000000000</td><td>OUT010</td><td>1998</td><td></td><td>Tier 3</td><td>Grocery Store</td></tr><tr><td>FDC26</td><td>10.1950000000000000000</td><td>Low Fat</td><td>0.1262779210000000000</td><td>Canned</td><td>112.1886000000000000000</td><td>OUT013</td><td>1987</td><td>High</td><td>Tier 3</td><td>Supermarket Type1</td></tr><tr><td>FDR14</td><td>11.6500000000000000000</td><td>Low Fat</td><td>0.2913223970000000000</td><td>Dairy</td><td>55.8298000000000000000</td><td>OUT010</td><td>1998</td><td></td><td>Tier 3</td><td>Grocery Store</td></tr><tr><td>NCS41</td><td>12.8500000000000000000</td><td>Low Fat</td><td>0.0534339080000000000</td><td>Health and Hygiene</td><td>183.2608000000000000000</td><td>OUT035</td><td>2004</td><td>Small</td><td>Tier 2</td><td>Supermarket Type1</td></tr><tr><td>FDF41</td><td>12.1500000000000000000</td><td>Low Fat</td><td>0.1311550070000000000</td><td>Frozen Foods</td><td>248.1460000000000000000</td><td>OUT035</td><td>2004</td><td>Small</td><td>Tier 2</td><td>Supermarket Type1</td></tr><tr><td>FDU34</td><td>18.2500000000000000000</td><td>Low Fat</td><td>0.0751949290000000000</td><td>Snack Foods</td><td>124.9046000000000000000</td><td>OUT046</td><td>1997</td><td>Small</td><td>Tier 1</td><td>Supermarket Type1</td></tr><tr><td>DRH11</td><td>5.9800000000000000000</td><td>Low Fat</td><td>0.0755579650000000000</td><td>Hard Drinks</td><td>57.0614000000000000000</td><td>OUT046</td><td>1997</td><td>Small</td><td>Tier 1</td><td>Supermarket Type1</td></tr><tr><td>FDM03</td><td>12.6500000000000000000</td><td>Low Fat</td><td>0.1229284150000000000</td><td>Meat</td><td>106.6938000000000000000</td><td>OUT013</td><td>1987</td><td>High</td><td>Tier 3</td><td>Supermarket Type1</td></tr><tr><td>FDS31</td><td>13.1000000000000000000</td><td>Regular</td><td>0.0444423420000000000</td><td>Fruits and Vegetables</td><td>181.0318000000000000000</td><td>OUT017</td><td>2007</td><td></td><td>Tier 2</td><td>Supermarket Type1</td></tr><tr><td>FDJ20</td><td>20.7000000000000000000</td><td>Regular</td><td>0.1007415690000000000</td><td>Fruits and Vegetables</td><td>122.3388000000000000000</td><td>OUT017</td><td>2007</td><td></td><td>Tier 2</td><td>Supermarket Type1</td></tr><tr><td>FDV44</td><td>null</td><td>Regular</td><td>0.0396514810000000000</td><td>Fruits and Vegetables</td><td>188.7188000000000000000</td><td>OUT027</td><td>1985</td><td>Medium</td><td>Tier 3</td><td>Supermarket Type3</td></tr><tr><td>FDG02</td><td>7.8550000000000000000</td><td>Low Fat</td><td>0.0112786730000000000</td><td>Canned</td><td>188.8188000000000000000</td><td>OUT049</td><td>1999</td><td>Medium</td><td>Tier 1</td><td>Supermarket Type1</td></tr><tr><td>FDA09</td><td>13.3500000000000000000</td><td>Regular</td><td>0E-19</td><td>Snack Foods</td><td>179.6660000000000000000</td><td>OUT013</td><td>1987</td><td>High</td><td>Tier 3</td><td>Supermarket Type1</td></tr><tr><td>FDT04</td><td>17.2500000000000000000</td><td>LF</td><td>0.1069526610000000000</td><td>Frozen Foods</td><td>38.3822000000000000000</td><td>OUT013</td><td>1987</td><td>High</td><td>Tier 3</td><td>Supermarket Type1</td></tr><tr><td>FDL58</td><td>null</td><td>Regular</td><td>0.1298254570000000000</td><td>Snack Foods</td><td>263.2568000000000000000</td><td>OUT019</td><td>1985</td><td>Small</td><td>Tier 1</td><td>Grocery Store</td></tr><tr><td>FDE52</td><td>10.3950000000000000000</td><td>Regular</td><td>0.0299474090000000000</td><td>Dairy</td><td>90.1514000000000000000</td><td>OUT045</td><td>2002</td><td></td><td>Tier 2</td><td>Supermarket Type1</td></tr><tr><td>FDW12</td><td>8.3150000000000000000</td><td>Regular</td><td>0.0355654570000000000</td><td>Baking Goods</td><td>144.8444000000000000000</td><td>OUT035</td><td>2004</td><td>Small</td><td>Tier 2</td><td>Supermarket Type1</td></tr><tr><td>FDL51</td><td>20.7000000000000000000</td><td>Regular</td><td>0.0477600020000000000</td><td>Dairy</td><td>214.9876000000000000000</td><td>OUT017</td><td>2007</td><td></td><td>Tier 2</td><td>Supermarket Type1</td></tr><tr><td>NCY42</td><td>null</td><td>Low Fat</td><td>0.0150891470000000000</td><td>Household</td><td>141.3470000000000000000</td><td>OUT027</td><td>1985</td><td>Medium</td><td>Tier 3</td><td>Supermarket Type3</td></tr><tr><td>FDR07</td><td>21.3500000000000000000</td><td>Low Fat</td><td>0.0781836600000000000</td><td>Fruits and Vegetables</td><td>96.8094000000000000000</td><td>OUT017</td><td>2007</td><td></td><td>Tier 2</td><td>Supermarket Type1</td></tr><tr><td>FDN40</td><td>5.8800000000000000000</td><td>Low Fat</td><td>0.0866321250000000000</td><td>Frozen Foods</td><td>152.6998000000000000000</td><td>OUT045</td><td>2002</td><td></td><td>Tier 2</td><td>Supermarket Type1</td></tr><tr><td>FDB35</td><td>null</td><td>Regular</td><td>0.0643060560000000000</td><td>Starchy Foods</td><td>90.3804000000000000000</td><td>OUT027</td><td>1985</td><td>Medium</td><td>Tier 3</td><td>Supermarket Type3</td></tr><tr><td>FDA22</td><td>7.4350000000000000000</td><td>low fat</td><td>0.0849300600000000000</td><td>Starchy Foods</td><td>165.8158000000000000000</td><td>OUT017</td><td>2007</td><td></td><td>Tier 2</td><td>Supermarket Type1</td></tr><tr><td>NCL06</td><td>14.6500000000000000000</td><td>Low Fat</td><td>0.0720666340000000000</td><td>Household</td><td>262.5594000000000000000</td><td>OUT046</td><td>1997</td><td>Small</td><td>Tier 1</td><td>Supermarket Type1</td></tr><tr><td>FDI35</td><td>14.0000000000000000000</td><td>Low Fat</td><td>0.0412568070000000000</td><td>Starchy Foods</td><td>181.2634000000000000000</td><td>OUT013</td><td>1987</td><td>High</td><td>Tier 3</td><td>Supermarket Type1</td></tr><tr><td>NCW42</td><td>18.2000000000000000000</td><td>Low Fat</td><td>0.0585875580000000000</td><td>Household</td><td>221.6456000000000000000</td><td>OUT045</td><td>2002</td><td></td><td>Tier 2</td><td>Supermarket Type1</td></tr><tr><td>NCX06</td><td>17.6000000000000000000</td><td>Low Fat</td><td>0.0157114340000000000</td><td>Household</td><td>180.0976000000000000000</td><td>OUT049</td><td>1999</td><td>Medium</td><td>Tier 1</td><td>Supermarket Type1</td></tr><tr><td>FDC37</td><td>null</td><td>Low Fat</td><td>0.0327141630000000000</td><td>Baking Goods</td><td>108.1938000000000000000</td><td>OUT027</td><td>1985</td><td>Medium</td><td>Tier 3</td><td>Supermarket Type3</td></tr><tr><td>FDZ14</td><td>7.7100000000000000000</td><td>Regular</td><td>0.0477825520000000000</td><td>Dairy</td><td>122.3756000000000000000</td><td>OUT018</td><td>2009</td><td>Medium</td><td>Tier 3</td><td>Supermarket Type2</td></tr><tr><td>DRG49</td><td>7.8100000000000000000</td><td>Low Fat</td><td>0.0675601710000000000</td><td>Soft Drinks</td><td>245.2486000000000000000</td><td>OUT049</td><td>1999</td><td>Medium</td><td>Tier 1</td><td>Supermarket Type1</td></tr><tr><td>NCG06</td><td>16.3500000000000000000</td><td>Low Fat</td><td>0.0295050770000000000</td><td>Household</td><td>256.2646000000000000000</td><td>OUT045</td><td>2002</td><td></td><td>Tier 2</td><td>Supermarket Type1</td></tr><tr><td>DRC36</td><td>13.0000000000000000000</td><td>Regular</td><td>0.0450761040000000000</td><td>Soft Drinks</td><td>173.7054000000000000000</td><td>OUT045</td><td>2002</td><td></td><td>Tier 2</td><td>Supermarket Type1</td></tr><tr><td>FDV21</td><td>null</td><td>Low Fat</td><td>0.2995441530000000000</td><td>Snack Foods</td><td>124.8704000000000000000</td><td>OUT019</td><td>1985</td><td>Small</td><td>Tier 1</td><td>Grocery Store</td></tr><tr><td>FDB53</td><td>13.3500000000000000000</td><td>Low Fat</td><td>0.1394524130000000000</td><td>Frozen Foods</td><td>148.6392000000000000000</td><td>OUT046</td><td>1997</td><td>Small</td><td>Tier 1</td><td>Supermarket Type1</td></tr><tr><td>DRP47</td><td>null</td><td>Low Fat</td><td>0.2461782570000000000</td><td>Hard Drinks</td><td>252.4382000000000000000</td><td>OUT019</td><td>1985</td><td>Small</td><td>Tier 1</td><td>Grocery Store</td></tr><tr><td>FDA14</td><td>16.1000000000000000000</td><td>LF</td><td>0.0651289840000000000</td><td>Dairy</td><td>145.1760000000000000000</td><td>OUT013</td><td>1987</td><td>High</td><td>Tier 3</td><td>Supermarket Type1</td></tr><tr><td>DRC24</td><td>17.8500000000000000000</td><td>Low Fat</td><td>0.0248165850000000000</td><td>Soft Drinks</td><td>152.6998000000000000000</td><td>OUT035</td><td>2004</td><td>Small</td><td>Tier 2</td><td>Supermarket Type1</td></tr><tr><td>FDW21</td><td>5.3400000000000000000</td><td>Regular</td><td>0.0059881750000000000</td><td>Snack Foods</td><td>100.6358000000000000000</td><td>OUT018</td><td>2009</td><td>Medium</td><td>Tier 3</td><td>Supermarket Type2</td></tr><tr><td>NCH29</td><td>5.5100000000000000000</td><td>Low Fat</td><td>0.0344738040000000000</td><td>Health and Hygiene</td><td>97.3726000000000000000</td><td>OUT046</td><td>1997</td><td>Small</td><td>Tier 1</td><td>Supermarket Type1</td></tr><tr><td>FDU58</td><td>6.6100000000000000000</td><td>Regular</td><td>0.0289875820000000000</td><td>Snack Foods</td><td>188.6898000000000000000</td><td>OUT013</td><td>1987</td><td>High</td><td>Tier 3</td><td>Supermarket Type1</td></tr><tr><td>FDY27</td><td>6.3800000000000000000</td><td>Low Fat</td><td>0.0320786040000000000</td><td>Dairy</td><td>177.6344000000000000000</td><td>OUT017</td><td>2007</td><td></td><td>Tier 2</td><td>Supermarket Type1</td></tr><tr><td>FDV56</td><td>16.1000000000000000000</td><td>Regular</td><td>0.0135931510000000000</td><td>Fruits and Vegetables</td><td>108.9596000000000000000</td><td>OUT035</td><td>2004</td><td>Small</td><td>Tier 2</td><td>Supermarket Type1</td></tr><tr><td>FDT59</td><td>13.6500000000000000000</td><td>LF</td><td>0.0159114320000000000</td><td>Breads</td><td>230.5668000000000000000</td><td>OUT046</td><td>1997</td><td>Small</td><td>Tier 1</td><td>Supermarket Type1</td></tr><tr><td>FDB23</td><td>19.2000000000000000000</td><td>Regular</td><td>0.0055886010000000000</td><td>Starchy Foods</td><td>225.5062000000000000000</td><td>OUT046</td><td>1997</td><td>Small</td><td>Tier 1</td><td>Supermarket Type1</td></tr><tr><td>FDR49</td><td>8.7100000000000000000</td><td>Low Fat</td><td>0.1395107710000000000</td><td>Canned</td><td>46.2376000000000000000</td><td>OUT045</td><td>2002</td><td></td><td>Tier 2</td><td>Supermarket Type1</td></tr><tr><td>FDB03</td><td>17.7500000000000000000</td><td>Regular</td><td>0.2625043250000000000</td><td>Dairy</td><td>242.2538000000000000000</td><td>OUT010</td><td>1998</td><td></td><td>Tier 3</td><td>Grocery Store</td></tr><tr><td>FDN39</td><td>19.3500000000000000000</td><td>Regular</td><td>0E-19</td><td>Meat</td><td>165.7816000000000000000</td><td>OUT045</td><td>2002</td><td></td><td>Tier 2</td><td>Supermarket Type1</td></tr><tr><td>FDX02</td><td>null</td><td>Low Fat</td><td>0.0567837740000000000</td><td>Dairy</td><td>223.1404000000000000000</td><td>OUT027</td><td>1985</td><td>Medium</td><td>Tier 3</td><td>Supermarket Type3</td></tr><tr><td>FDQ16</td><td>null</td><td>Low Fat</td><td>0.0415362790000000000</td><td>Frozen Foods</td><td>107.7912000000000000000</td><td>OUT027</td><td>1985</td><td>Medium</td><td>Tier 3</td><td>Supermarket Type3</td></tr><tr><td>FDU35</td><td>6.4400000000000000000</td><td>Low Fat</td><td>0.0795380560000000000</td><td>Breads</td><td>99.4700000000000000000</td><td>OUT018</td><td>2009</td><td>Medium</td><td>Tier 3</td><td>Supermarket Type2</td></tr><tr><td>NCT29</td><td>12.6000000000000000000</td><td>Low Fat</td><td>0.0640573740000000000</td><td>Health and Hygiene</td><td>122.1414000000000000000</td><td>OUT013</td><td>1987</td><td>High</td><td>Tier 3</td><td>Supermarket Type1</td></tr><tr><td>FDZ27</td><td>7.9350000000000000000</td><td>Low Fat</td><td>0.0171562620000000000</td><td>Dairy</td><td>48.1350000000000000000</td><td>OUT046</td><td>1997</td><td>Small</td><td>Tier 1</td><td>Supermarket Type1</td></tr><tr><td>FDN57</td><td>18.2500000000000000000</td><td>Low Fat</td><td>0.0545409680000000000</td><td>Snack Foods</td><td>140.4154000000000000000</td><td>OUT017</td><td>2007</td><td></td><td>Tier 2</td><td>Supermarket Type1</td></tr><tr><td>FDA03</td><td>18.5000000000000000000</td><td>Regular</td><td>0.0456489730000000000</td><td>Dairy</td><td>145.6102000000000000000</td><td>OUT018</td><td>2009</td><td>Medium</td><td>Tier 3</td><td>Supermarket Type2</td></tr><tr><td>FDZ36</td><td>6.0350000000000000000</td><td>Regular</td><td>0.0659171940000000000</td><td>Baking Goods</td><td>185.7240000000000000000</td><td>OUT045</td><td>2002</td><td></td><td>Tier 2</td><td>Supermarket Type1</td></tr><tr><td>NCU05</td><td>11.8000000000000000000</td><td>Low Fat</td><td>0.0586873590000000000</td><td>Health and Hygiene</td><td>81.1618000000000000000</td><td>OUT013</td><td>1987</td><td>High</td><td>Tier 3</td><td>Supermarket Type1</td></tr></tbody></table></div>"
      ]
     },
     "metadata": {
      "application/vnd.databricks.v1+output": {
       "addedWidgets": {},
       "aggData": [],
       "aggError": "",
       "aggOverflow": false,
       "aggSchema": [],
       "aggSeriesLimitReached": false,
       "aggType": "",
       "arguments": {},
       "columnCustomDisplayInfos": {},
       "data": [
        [
         "FDW58",
         "20.7500000000000000000",
         "Low Fat",
         "0.0075648360000000000",
         "Snack Foods",
         "107.8622000000000000000",
         "OUT049",
         1999,
         "Medium",
         "Tier 1",
         "Supermarket Type1"
        ],
        [
         "FDW14",
         "8.3000000000000000000",
         "reg",
         "0.0384276770000000000",
         "Dairy",
         "87.3198000000000000000",
         "OUT017",
         2007,
         "",
         "Tier 2",
         "Supermarket Type1"
        ],
        [
         "NCN55",
         "14.6000000000000000000",
         "Low Fat",
         "0.0995749080000000000",
         "Others",
         "241.7538000000000000000",
         "OUT010",
         1998,
         "",
         "Tier 3",
         "Grocery Store"
        ],
        [
         "FDQ58",
         "7.3150000000000000000",
         "Low Fat",
         "0.0153883930000000000",
         "Snack Foods",
         "155.0340000000000000000",
         "OUT017",
         2007,
         "",
         "Tier 2",
         "Supermarket Type1"
        ],
        [
         "FDY38",
         null,
         "Regular",
         "0.1185993140000000000",
         "Dairy",
         "234.2300000000000000000",
         "OUT027",
         1985,
         "Medium",
         "Tier 3",
         "Supermarket Type3"
        ],
        [
         "FDH56",
         "9.8000000000000000000",
         "Regular",
         "0.0638172060000000000",
         "Fruits and Vegetables",
         "117.1492000000000000000",
         "OUT046",
         1997,
         "Small",
         "Tier 1",
         "Supermarket Type1"
        ],
        [
         "FDL48",
         "19.3500000000000000000",
         "Regular",
         "0.0826015370000000000",
         "Baking Goods",
         "50.1034000000000000000",
         "OUT018",
         2009,
         "Medium",
         "Tier 3",
         "Supermarket Type2"
        ],
        [
         "FDC48",
         null,
         "Low Fat",
         "0.0157824950000000000",
         "Baking Goods",
         "81.0592000000000000000",
         "OUT027",
         1985,
         "Medium",
         "Tier 3",
         "Supermarket Type3"
        ],
        [
         "FDN33",
         "6.3050000000000000000",
         "Regular",
         "0.1233654460000000000",
         "Snack Foods",
         "95.7436000000000000000",
         "OUT045",
         2002,
         "",
         "Tier 2",
         "Supermarket Type1"
        ],
        [
         "FDA36",
         "5.9850000000000000000",
         "Low Fat",
         "0.0056984350000000000",
         "Baking Goods",
         "186.8924000000000000000",
         "OUT017",
         2007,
         "",
         "Tier 2",
         "Supermarket Type1"
        ],
        [
         "FDT44",
         "16.6000000000000000000",
         "Low Fat",
         "0.1035690750000000000",
         "Fruits and Vegetables",
         "118.3466000000000000000",
         "OUT017",
         2007,
         "",
         "Tier 2",
         "Supermarket Type1"
        ],
        [
         "FDQ56",
         "6.5900000000000000000",
         "Low Fat",
         "0.1058114700000000000",
         "Fruits and Vegetables",
         "85.3908000000000000000",
         "OUT045",
         2002,
         "",
         "Tier 2",
         "Supermarket Type1"
        ],
        [
         "NCC54",
         null,
         "Low Fat",
         "0.1710792150000000000",
         "Health and Hygiene",
         "240.4196000000000000000",
         "OUT019",
         1985,
         "Small",
         "Tier 1",
         "Grocery Store"
        ],
        [
         "FDU11",
         "4.7850000000000000000",
         "Low Fat",
         "0.0927376110000000000",
         "Breads",
         "122.3098000000000000000",
         "OUT049",
         1999,
         "Medium",
         "Tier 1",
         "Supermarket Type1"
        ],
        [
         "DRL59",
         "16.7500000000000000000",
         "LF",
         "0.0212064640000000000",
         "Hard Drinks",
         "52.0298000000000000000",
         "OUT013",
         1987,
         "High",
         "Tier 3",
         "Supermarket Type1"
        ],
        [
         "FDM24",
         "6.1350000000000000000",
         "Regular",
         "0.0794507000000000000",
         "Baking Goods",
         "151.6366000000000000000",
         "OUT049",
         1999,
         "Medium",
         "Tier 1",
         "Supermarket Type1"
        ],
        [
         "FDI57",
         "19.8500000000000000000",
         "Low Fat",
         "0.0541352100000000000",
         "Seafood",
         "198.7768000000000000000",
         "OUT045",
         2002,
         "",
         "Tier 2",
         "Supermarket Type1"
        ],
        [
         "DRC12",
         "17.8500000000000000000",
         "Low Fat",
         "0.0379809630000000000",
         "Soft Drinks",
         "192.2188000000000000000",
         "OUT018",
         2009,
         "Medium",
         "Tier 3",
         "Supermarket Type2"
        ],
        [
         "NCM42",
         null,
         "Low Fat",
         "0.0281843440000000000",
         "Household",
         "109.6912000000000000000",
         "OUT027",
         1985,
         "Medium",
         "Tier 3",
         "Supermarket Type3"
        ],
        [
         "FDA46",
         "13.6000000000000000000",
         "Low Fat",
         "0.1968976370000000000",
         "Snack Foods",
         "193.7136000000000000000",
         "OUT010",
         1998,
         "",
         "Tier 3",
         "Grocery Store"
        ],
        [
         "FDA31",
         "7.1000000000000000000",
         "Low Fat",
         "0.1099201380000000000",
         "Fruits and Vegetables",
         "175.0080000000000000000",
         "OUT013",
         1987,
         "High",
         "Tier 3",
         "Supermarket Type1"
        ],
        [
         "NCJ31",
         "19.2000000000000000000",
         "Low Fat",
         "0.1826192350000000000",
         "Others",
         "239.9196000000000000000",
         "OUT035",
         2004,
         "Small",
         "Tier 2",
         "Supermarket Type1"
        ],
        [
         "FDG52",
         "13.6500000000000000000",
         "LF",
         "0.0656308440000000000",
         "Frozen Foods",
         "47.7402000000000000000",
         "OUT046",
         1997,
         "Small",
         "Tier 1",
         "Supermarket Type1"
        ],
        [
         "NCL19",
         null,
         "Low Fat",
         "0.0274470570000000000",
         "Others",
         "142.3470000000000000000",
         "OUT019",
         1985,
         "Small",
         "Tier 1",
         "Grocery Store"
        ],
        [
         "FDS10",
         "19.2000000000000000000",
         "Low Fat",
         "0.0351789350000000000",
         "Snack Foods",
         "180.7318000000000000000",
         "OUT035",
         2004,
         "Small",
         "Tier 2",
         "Supermarket Type1"
        ],
        [
         "FDX22",
         "6.7850000000000000000",
         "Regular",
         "0.0384551250000000000",
         "Snack Foods",
         "209.4928000000000000000",
         "OUT010",
         1998,
         "",
         "Tier 3",
         "Grocery Store"
        ],
        [
         "NCF19",
         "13.0000000000000000000",
         "Low Fat",
         "0.0351020940000000000",
         "Household",
         "47.6034000000000000000",
         "OUT035",
         2004,
         "Small",
         "Tier 2",
         "Supermarket Type1"
        ],
        [
         "NCE06",
         "5.8250000000000000000",
         "Low Fat",
         "0.0914852320000000000",
         "Household",
         "161.3894000000000000000",
         "OUT046",
         1997,
         "Small",
         "Tier 1",
         "Supermarket Type1"
        ],
        [
         "DRC27",
         "13.8000000000000000000",
         "Low Fat",
         "0.0581024690000000000",
         "Dairy",
         "244.6802000000000000000",
         "OUT046",
         1997,
         "Small",
         "Tier 1",
         "Supermarket Type1"
        ],
        [
         "FDE21",
         "12.8000000000000000000",
         "LF",
         "0.0229403490000000000",
         "Fruits and Vegetables",
         "116.5492000000000000000",
         "OUT035",
         2004,
         "Small",
         "Tier 2",
         "Supermarket Type1"
        ],
        [
         "NCR42",
         null,
         "Low Fat",
         "0.0673768100000000000",
         "Household",
         "32.0900000000000000000",
         "OUT019",
         1985,
         "Small",
         "Tier 1",
         "Grocery Store"
        ],
        [
         "FDX51",
         "9.5000000000000000000",
         "Regular",
         "0.0221485820000000000",
         "Meat",
         "194.9452000000000000000",
         "OUT018",
         2009,
         "Medium",
         "Tier 3",
         "Supermarket Type2"
        ],
        [
         "NCR06",
         "12.5000000000000000000",
         "Low Fat",
         "0.0067927070000000000",
         "Household",
         "42.4112000000000000000",
         "OUT018",
         2009,
         "Medium",
         "Tier 3",
         "Supermarket Type2"
        ],
        [
         "FDU31",
         null,
         "Regular",
         "0.0248700350000000000",
         "Fruits and Vegetables",
         "217.7508000000000000000",
         "OUT027",
         1985,
         "Medium",
         "Tier 3",
         "Supermarket Type3"
        ],
        [
         "FDU59",
         "5.7800000000000000000",
         "Low Fat",
         "0.0969314260000000000",
         "Breads",
         "164.2552000000000000000",
         "OUT017",
         2007,
         "",
         "Tier 2",
         "Supermarket Type1"
        ],
        [
         "FDR03",
         null,
         "Regular",
         "0.0086936320000000000",
         "Meat",
         "205.0980000000000000000",
         "OUT027",
         1985,
         "Medium",
         "Tier 3",
         "Supermarket Type3"
        ],
        [
         "FDS49",
         null,
         "Low Fat",
         "0.0789612840000000000",
         "Canned",
         "80.3644000000000000000",
         "OUT027",
         1985,
         "Medium",
         "Tier 3",
         "Supermarket Type3"
        ],
        [
         "FDD48",
         "10.3950000000000000000",
         "Low Fat",
         "0.0504794630000000000",
         "Baking Goods",
         "114.0176000000000000000",
         "OUT010",
         1998,
         "",
         "Tier 3",
         "Grocery Store"
        ],
        [
         "NCF18",
         "18.3500000000000000000",
         "Low Fat",
         "0.0894859180000000000",
         "Household",
         "192.1504000000000000000",
         "OUT017",
         2007,
         "",
         "Tier 2",
         "Supermarket Type1"
        ],
        [
         "NCD43",
         null,
         "Low Fat",
         "0.0159423800000000000",
         "Household",
         "103.3964000000000000000",
         "OUT027",
         1985,
         "Medium",
         "Tier 3",
         "Supermarket Type3"
        ],
        [
         "NCD54",
         "21.1000000000000000000",
         "Low Fat",
         "0.0291271150000000000",
         "Household",
         "143.3786000000000000000",
         "OUT018",
         2009,
         "Medium",
         "Tier 3",
         "Supermarket Type2"
        ],
        [
         "FDY19",
         "19.7500000000000000000",
         "LF",
         "0.0692364210000000000",
         "Fruits and Vegetables",
         "116.6466000000000000000",
         "OUT010",
         1998,
         "",
         "Tier 3",
         "Grocery Store"
        ],
        [
         "NCY54",
         "8.4300000000000000000",
         "Low Fat",
         "0.1786999610000000000",
         "Household",
         "173.9422000000000000000",
         "OUT017",
         2007,
         "",
         "Tier 2",
         "Supermarket Type1"
        ],
        [
         "NCL19",
         "15.3500000000000000000",
         "Low Fat",
         "0.0157400890000000000",
         "Others",
         "144.8470000000000000000",
         "OUT018",
         2009,
         "Medium",
         "Tier 3",
         "Supermarket Type2"
        ],
        [
         "FDP23",
         "6.7100000000000000000",
         "Low Fat",
         "0.0595651070000000000",
         "Breads",
         "217.2166000000000000000",
         "OUT010",
         1998,
         "",
         "Tier 3",
         "Grocery Store"
        ],
        [
         "FDC26",
         "10.1950000000000000000",
         "Low Fat",
         "0.1262779210000000000",
         "Canned",
         "112.1886000000000000000",
         "OUT013",
         1987,
         "High",
         "Tier 3",
         "Supermarket Type1"
        ],
        [
         "FDR14",
         "11.6500000000000000000",
         "Low Fat",
         "0.2913223970000000000",
         "Dairy",
         "55.8298000000000000000",
         "OUT010",
         1998,
         "",
         "Tier 3",
         "Grocery Store"
        ],
        [
         "NCS41",
         "12.8500000000000000000",
         "Low Fat",
         "0.0534339080000000000",
         "Health and Hygiene",
         "183.2608000000000000000",
         "OUT035",
         2004,
         "Small",
         "Tier 2",
         "Supermarket Type1"
        ],
        [
         "FDF41",
         "12.1500000000000000000",
         "Low Fat",
         "0.1311550070000000000",
         "Frozen Foods",
         "248.1460000000000000000",
         "OUT035",
         2004,
         "Small",
         "Tier 2",
         "Supermarket Type1"
        ],
        [
         "FDU34",
         "18.2500000000000000000",
         "Low Fat",
         "0.0751949290000000000",
         "Snack Foods",
         "124.9046000000000000000",
         "OUT046",
         1997,
         "Small",
         "Tier 1",
         "Supermarket Type1"
        ],
        [
         "DRH11",
         "5.9800000000000000000",
         "Low Fat",
         "0.0755579650000000000",
         "Hard Drinks",
         "57.0614000000000000000",
         "OUT046",
         1997,
         "Small",
         "Tier 1",
         "Supermarket Type1"
        ],
        [
         "FDM03",
         "12.6500000000000000000",
         "Low Fat",
         "0.1229284150000000000",
         "Meat",
         "106.6938000000000000000",
         "OUT013",
         1987,
         "High",
         "Tier 3",
         "Supermarket Type1"
        ],
        [
         "FDS31",
         "13.1000000000000000000",
         "Regular",
         "0.0444423420000000000",
         "Fruits and Vegetables",
         "181.0318000000000000000",
         "OUT017",
         2007,
         "",
         "Tier 2",
         "Supermarket Type1"
        ],
        [
         "FDJ20",
         "20.7000000000000000000",
         "Regular",
         "0.1007415690000000000",
         "Fruits and Vegetables",
         "122.3388000000000000000",
         "OUT017",
         2007,
         "",
         "Tier 2",
         "Supermarket Type1"
        ],
        [
         "FDV44",
         null,
         "Regular",
         "0.0396514810000000000",
         "Fruits and Vegetables",
         "188.7188000000000000000",
         "OUT027",
         1985,
         "Medium",
         "Tier 3",
         "Supermarket Type3"
        ],
        [
         "FDG02",
         "7.8550000000000000000",
         "Low Fat",
         "0.0112786730000000000",
         "Canned",
         "188.8188000000000000000",
         "OUT049",
         1999,
         "Medium",
         "Tier 1",
         "Supermarket Type1"
        ],
        [
         "FDA09",
         "13.3500000000000000000",
         "Regular",
         "0E-19",
         "Snack Foods",
         "179.6660000000000000000",
         "OUT013",
         1987,
         "High",
         "Tier 3",
         "Supermarket Type1"
        ],
        [
         "FDT04",
         "17.2500000000000000000",
         "LF",
         "0.1069526610000000000",
         "Frozen Foods",
         "38.3822000000000000000",
         "OUT013",
         1987,
         "High",
         "Tier 3",
         "Supermarket Type1"
        ],
        [
         "FDL58",
         null,
         "Regular",
         "0.1298254570000000000",
         "Snack Foods",
         "263.2568000000000000000",
         "OUT019",
         1985,
         "Small",
         "Tier 1",
         "Grocery Store"
        ],
        [
         "FDE52",
         "10.3950000000000000000",
         "Regular",
         "0.0299474090000000000",
         "Dairy",
         "90.1514000000000000000",
         "OUT045",
         2002,
         "",
         "Tier 2",
         "Supermarket Type1"
        ],
        [
         "FDW12",
         "8.3150000000000000000",
         "Regular",
         "0.0355654570000000000",
         "Baking Goods",
         "144.8444000000000000000",
         "OUT035",
         2004,
         "Small",
         "Tier 2",
         "Supermarket Type1"
        ],
        [
         "FDL51",
         "20.7000000000000000000",
         "Regular",
         "0.0477600020000000000",
         "Dairy",
         "214.9876000000000000000",
         "OUT017",
         2007,
         "",
         "Tier 2",
         "Supermarket Type1"
        ],
        [
         "NCY42",
         null,
         "Low Fat",
         "0.0150891470000000000",
         "Household",
         "141.3470000000000000000",
         "OUT027",
         1985,
         "Medium",
         "Tier 3",
         "Supermarket Type3"
        ],
        [
         "FDR07",
         "21.3500000000000000000",
         "Low Fat",
         "0.0781836600000000000",
         "Fruits and Vegetables",
         "96.8094000000000000000",
         "OUT017",
         2007,
         "",
         "Tier 2",
         "Supermarket Type1"
        ],
        [
         "FDN40",
         "5.8800000000000000000",
         "Low Fat",
         "0.0866321250000000000",
         "Frozen Foods",
         "152.6998000000000000000",
         "OUT045",
         2002,
         "",
         "Tier 2",
         "Supermarket Type1"
        ],
        [
         "FDB35",
         null,
         "Regular",
         "0.0643060560000000000",
         "Starchy Foods",
         "90.3804000000000000000",
         "OUT027",
         1985,
         "Medium",
         "Tier 3",
         "Supermarket Type3"
        ],
        [
         "FDA22",
         "7.4350000000000000000",
         "low fat",
         "0.0849300600000000000",
         "Starchy Foods",
         "165.8158000000000000000",
         "OUT017",
         2007,
         "",
         "Tier 2",
         "Supermarket Type1"
        ],
        [
         "NCL06",
         "14.6500000000000000000",
         "Low Fat",
         "0.0720666340000000000",
         "Household",
         "262.5594000000000000000",
         "OUT046",
         1997,
         "Small",
         "Tier 1",
         "Supermarket Type1"
        ],
        [
         "FDI35",
         "14.0000000000000000000",
         "Low Fat",
         "0.0412568070000000000",
         "Starchy Foods",
         "181.2634000000000000000",
         "OUT013",
         1987,
         "High",
         "Tier 3",
         "Supermarket Type1"
        ],
        [
         "NCW42",
         "18.2000000000000000000",
         "Low Fat",
         "0.0585875580000000000",
         "Household",
         "221.6456000000000000000",
         "OUT045",
         2002,
         "",
         "Tier 2",
         "Supermarket Type1"
        ],
        [
         "NCX06",
         "17.6000000000000000000",
         "Low Fat",
         "0.0157114340000000000",
         "Household",
         "180.0976000000000000000",
         "OUT049",
         1999,
         "Medium",
         "Tier 1",
         "Supermarket Type1"
        ],
        [
         "FDC37",
         null,
         "Low Fat",
         "0.0327141630000000000",
         "Baking Goods",
         "108.1938000000000000000",
         "OUT027",
         1985,
         "Medium",
         "Tier 3",
         "Supermarket Type3"
        ],
        [
         "FDZ14",
         "7.7100000000000000000",
         "Regular",
         "0.0477825520000000000",
         "Dairy",
         "122.3756000000000000000",
         "OUT018",
         2009,
         "Medium",
         "Tier 3",
         "Supermarket Type2"
        ],
        [
         "DRG49",
         "7.8100000000000000000",
         "Low Fat",
         "0.0675601710000000000",
         "Soft Drinks",
         "245.2486000000000000000",
         "OUT049",
         1999,
         "Medium",
         "Tier 1",
         "Supermarket Type1"
        ],
        [
         "NCG06",
         "16.3500000000000000000",
         "Low Fat",
         "0.0295050770000000000",
         "Household",
         "256.2646000000000000000",
         "OUT045",
         2002,
         "",
         "Tier 2",
         "Supermarket Type1"
        ],
        [
         "DRC36",
         "13.0000000000000000000",
         "Regular",
         "0.0450761040000000000",
         "Soft Drinks",
         "173.7054000000000000000",
         "OUT045",
         2002,
         "",
         "Tier 2",
         "Supermarket Type1"
        ],
        [
         "FDV21",
         null,
         "Low Fat",
         "0.2995441530000000000",
         "Snack Foods",
         "124.8704000000000000000",
         "OUT019",
         1985,
         "Small",
         "Tier 1",
         "Grocery Store"
        ],
        [
         "FDB53",
         "13.3500000000000000000",
         "Low Fat",
         "0.1394524130000000000",
         "Frozen Foods",
         "148.6392000000000000000",
         "OUT046",
         1997,
         "Small",
         "Tier 1",
         "Supermarket Type1"
        ],
        [
         "DRP47",
         null,
         "Low Fat",
         "0.2461782570000000000",
         "Hard Drinks",
         "252.4382000000000000000",
         "OUT019",
         1985,
         "Small",
         "Tier 1",
         "Grocery Store"
        ],
        [
         "FDA14",
         "16.1000000000000000000",
         "LF",
         "0.0651289840000000000",
         "Dairy",
         "145.1760000000000000000",
         "OUT013",
         1987,
         "High",
         "Tier 3",
         "Supermarket Type1"
        ],
        [
         "DRC24",
         "17.8500000000000000000",
         "Low Fat",
         "0.0248165850000000000",
         "Soft Drinks",
         "152.6998000000000000000",
         "OUT035",
         2004,
         "Small",
         "Tier 2",
         "Supermarket Type1"
        ],
        [
         "FDW21",
         "5.3400000000000000000",
         "Regular",
         "0.0059881750000000000",
         "Snack Foods",
         "100.6358000000000000000",
         "OUT018",
         2009,
         "Medium",
         "Tier 3",
         "Supermarket Type2"
        ],
        [
         "NCH29",
         "5.5100000000000000000",
         "Low Fat",
         "0.0344738040000000000",
         "Health and Hygiene",
         "97.3726000000000000000",
         "OUT046",
         1997,
         "Small",
         "Tier 1",
         "Supermarket Type1"
        ],
        [
         "FDU58",
         "6.6100000000000000000",
         "Regular",
         "0.0289875820000000000",
         "Snack Foods",
         "188.6898000000000000000",
         "OUT013",
         1987,
         "High",
         "Tier 3",
         "Supermarket Type1"
        ],
        [
         "FDY27",
         "6.3800000000000000000",
         "Low Fat",
         "0.0320786040000000000",
         "Dairy",
         "177.6344000000000000000",
         "OUT017",
         2007,
         "",
         "Tier 2",
         "Supermarket Type1"
        ],
        [
         "FDV56",
         "16.1000000000000000000",
         "Regular",
         "0.0135931510000000000",
         "Fruits and Vegetables",
         "108.9596000000000000000",
         "OUT035",
         2004,
         "Small",
         "Tier 2",
         "Supermarket Type1"
        ],
        [
         "FDT59",
         "13.6500000000000000000",
         "LF",
         "0.0159114320000000000",
         "Breads",
         "230.5668000000000000000",
         "OUT046",
         1997,
         "Small",
         "Tier 1",
         "Supermarket Type1"
        ],
        [
         "FDB23",
         "19.2000000000000000000",
         "Regular",
         "0.0055886010000000000",
         "Starchy Foods",
         "225.5062000000000000000",
         "OUT046",
         1997,
         "Small",
         "Tier 1",
         "Supermarket Type1"
        ],
        [
         "FDR49",
         "8.7100000000000000000",
         "Low Fat",
         "0.1395107710000000000",
         "Canned",
         "46.2376000000000000000",
         "OUT045",
         2002,
         "",
         "Tier 2",
         "Supermarket Type1"
        ],
        [
         "FDB03",
         "17.7500000000000000000",
         "Regular",
         "0.2625043250000000000",
         "Dairy",
         "242.2538000000000000000",
         "OUT010",
         1998,
         "",
         "Tier 3",
         "Grocery Store"
        ],
        [
         "FDN39",
         "19.3500000000000000000",
         "Regular",
         "0E-19",
         "Meat",
         "165.7816000000000000000",
         "OUT045",
         2002,
         "",
         "Tier 2",
         "Supermarket Type1"
        ],
        [
         "FDX02",
         null,
         "Low Fat",
         "0.0567837740000000000",
         "Dairy",
         "223.1404000000000000000",
         "OUT027",
         1985,
         "Medium",
         "Tier 3",
         "Supermarket Type3"
        ],
        [
         "FDQ16",
         null,
         "Low Fat",
         "0.0415362790000000000",
         "Frozen Foods",
         "107.7912000000000000000",
         "OUT027",
         1985,
         "Medium",
         "Tier 3",
         "Supermarket Type3"
        ],
        [
         "FDU35",
         "6.4400000000000000000",
         "Low Fat",
         "0.0795380560000000000",
         "Breads",
         "99.4700000000000000000",
         "OUT018",
         2009,
         "Medium",
         "Tier 3",
         "Supermarket Type2"
        ],
        [
         "NCT29",
         "12.6000000000000000000",
         "Low Fat",
         "0.0640573740000000000",
         "Health and Hygiene",
         "122.1414000000000000000",
         "OUT013",
         1987,
         "High",
         "Tier 3",
         "Supermarket Type1"
        ],
        [
         "FDZ27",
         "7.9350000000000000000",
         "Low Fat",
         "0.0171562620000000000",
         "Dairy",
         "48.1350000000000000000",
         "OUT046",
         1997,
         "Small",
         "Tier 1",
         "Supermarket Type1"
        ],
        [
         "FDN57",
         "18.2500000000000000000",
         "Low Fat",
         "0.0545409680000000000",
         "Snack Foods",
         "140.4154000000000000000",
         "OUT017",
         2007,
         "",
         "Tier 2",
         "Supermarket Type1"
        ],
        [
         "FDA03",
         "18.5000000000000000000",
         "Regular",
         "0.0456489730000000000",
         "Dairy",
         "145.6102000000000000000",
         "OUT018",
         2009,
         "Medium",
         "Tier 3",
         "Supermarket Type2"
        ],
        [
         "FDZ36",
         "6.0350000000000000000",
         "Regular",
         "0.0659171940000000000",
         "Baking Goods",
         "185.7240000000000000000",
         "OUT045",
         2002,
         "",
         "Tier 2",
         "Supermarket Type1"
        ],
        [
         "NCU05",
         "11.8000000000000000000",
         "Low Fat",
         "0.0586873590000000000",
         "Health and Hygiene",
         "81.1618000000000000000",
         "OUT013",
         1987,
         "High",
         "Tier 3",
         "Supermarket Type1"
        ]
       ],
       "datasetInfos": [],
       "dbfsResultPath": null,
       "isJsonSchema": true,
       "metadata": {
        "dataframeName": "_sqldf",
        "executionCount": 6
       },
       "overflow": false,
       "plotOptions": {
        "customPlotOptions": {},
        "displayType": "table",
        "pivotAggregation": null,
        "pivotColumns": null,
        "xColumns": null,
        "yColumns": null
       },
       "removedWidgets": [],
       "schema": [
        {
         "metadata": "{\"scale\":0}",
         "name": "Item_Identifier",
         "type": "\"string\""
        },
        {
         "metadata": "{\"scale\":19}",
         "name": "Item_Weight",
         "type": "\"decimal(38,19)\""
        },
        {
         "metadata": "{\"scale\":0}",
         "name": "Item_Fat_Content",
         "type": "\"string\""
        },
        {
         "metadata": "{\"scale\":19}",
         "name": "Item_Visibility",
         "type": "\"decimal(38,19)\""
        },
        {
         "metadata": "{\"scale\":0}",
         "name": "Item_Type",
         "type": "\"string\""
        },
        {
         "metadata": "{\"scale\":19}",
         "name": "Item_MRP",
         "type": "\"decimal(38,19)\""
        },
        {
         "metadata": "{\"scale\":0}",
         "name": "Outlet_Identifier",
         "type": "\"string\""
        },
        {
         "metadata": "{\"scale\":0}",
         "name": "Outlet_Establishment_Year",
         "type": "\"long\""
        },
        {
         "metadata": "{\"scale\":0}",
         "name": "Outlet_Size",
         "type": "\"string\""
        },
        {
         "metadata": "{\"scale\":0}",
         "name": "Outlet_Location_Type",
         "type": "\"string\""
        },
        {
         "metadata": "{\"scale\":0}",
         "name": "Outlet_Type",
         "type": "\"string\""
        }
       ],
       "type": "table"
      }
     },
     "output_type": "display_data"
    }
   ],
   "source": [
    "%sql\n",
    "SELECT * FROM BIG_MART_TRAIN_DATA LIMIT 100;\n",
    "\n",
    "SELECT * FROM BIG_MART_TEST_DATA LIMIT 100;"
   ]
  },
  {
   "cell_type": "code",
   "execution_count": 0,
   "metadata": {
    "application/vnd.databricks.v1+cell": {
     "cellMetadata": {
      "byteLimit": 2048000,
      "rowLimit": 10000
     },
     "inputWidgets": {},
     "nuid": "ca7b4127-0e54-4249-a781-3fae4245ed14",
     "showTitle": false,
     "title": ""
    }
   },
   "outputs": [
    {
     "output_type": "stream",
     "name": "stderr",
     "output_type": "stream",
     "text": [
      "/databricks/spark/python/pyspark/sql/pandas/utils.py:105: UserWarning: The conversion of DecimalType columns is inefficient and may take a long time. Column names: [Item_Weight, Item_Visibility, Item_MRP, Item_Outlet_Sales] If those columns are not necessary, you may consider dropping them or converting to primitive types before the conversion.\n  warnings.warn(\n/databricks/spark/python/pyspark/sql/pandas/utils.py:105: UserWarning: The conversion of DecimalType columns is inefficient and may take a long time. Column names: [Item_Weight, Item_Visibility, Item_MRP] If those columns are not necessary, you may consider dropping them or converting to primitive types before the conversion.\n  warnings.warn(\n"
     ]
    }
   ],
   "source": [
    "spark_temp_table_df1 = spark.sql(\"SELECT * FROM BIG_MART_TRAIN_DATA\")\n",
    "train_df = spark_temp_table_df1.toPandas()\n",
    "\n",
    "spark_temp_table_df2 = spark.sql(\"SELECT * FROM BIG_MART_TEST_DATA\")\n",
    "test_df = spark_temp_table_df2.toPandas()"
   ]
  },
  {
   "cell_type": "markdown",
   "metadata": {
    "application/vnd.databricks.v1+cell": {
     "cellMetadata": {},
     "inputWidgets": {},
     "nuid": "1acdadf4-590d-4d2b-a261-4648d802d5d5",
     "showTitle": false,
     "title": ""
    }
   },
   "source": [
    "Data Wrangling"
   ]
  },
  {
   "cell_type": "code",
   "execution_count": 0,
   "metadata": {
    "application/vnd.databricks.v1+cell": {
     "cellMetadata": {
      "byteLimit": 2048000,
      "rowLimit": 10000
     },
     "inputWidgets": {},
     "nuid": "2b4acbad-284a-4f86-8fdd-e1f9552f50c7",
     "showTitle": false,
     "title": ""
    }
   },
   "outputs": [],
   "source": [
    "import pandas as pd\n",
    "import numpy as np\n",
    "import matplotlib.pyplot as plt\n",
    "import seaborn as sns\n",
    "from math import sqrt\n",
    "\n",
    "def preprocess_data(train_df, test_df):\n",
    "    \"\"\"\n",
    "    Preprocesses the given train and test dataframes by performing the following steps:\n",
    "    \n",
    "    1. Adds a 'from' column to indicate the source of each row ('train' or 'test').\n",
    "    2. Concatenates the train and test dataframes into a single dataframe.\n",
    "    3. Fills missing values in 'Item_Weight' with the mean of the column.\n",
    "    4. Fills missing values in 'Outlet_Size' with the value 'Medium'.\n",
    "    5. Standardizes the values in the 'Item_Fat_Content' column.\n",
    "    6. One-hot encodes the 'Item_Fat_Content' column and drops the original column.\n",
    "    7. Replaces zero values in 'Item_Visibility' with the mean of the column.\n",
    "    \n",
    "    Parameters:\n",
    "    - train_df (pd.DataFrame): The training dataframe.\n",
    "    - test_df (pd.DataFrame): The testing dataframe.\n",
    "    \n",
    "    Returns:\n",
    "    pd.DataFrame: The preprocessed dataframe containing both train and test data.\n",
    "    \"\"\"\n",
    "    # Add 'from' column to indicate source\n",
    "    train_df['from'] = 'train'\n",
    "    test_df['from'] = 'test'\n",
    "    \n",
    "    # Concatenate train and test data\n",
    "    df = pd.concat([train_df, test_df], ignore_index=True)\n",
    "    \n",
    "    # Fill missing values\n",
    "    df['Item_Weight'] = df['Item_Weight'].fillna(df['Item_Weight'].mean())\n",
    "    df['Outlet_Size'] = df['Outlet_Size'].fillna('Medium')\n",
    "    \n",
    "    # Standardize item fat content values\n",
    "    df['Item_Fat_Content'].replace([\"Low Fat\", \"LF\", \"low fat\", \"Regular\", \"reg\"],\n",
    "                                   [\"Low_Fat\", \"Low_Fat\", \"Low_Fat\", \"Regular\", \"Regular\"], inplace=True)\n",
    "    \n",
    "    # One-hot encode 'Item_Fat_Content'\n",
    "    dummy_var = pd.get_dummies(df['Item_Fat_Content'])\n",
    "    df = pd.concat([df, dummy_var], axis=1)\n",
    "    df.drop('Item_Fat_Content', axis=1, inplace=True)\n",
    "    \n",
    "    # Replace zero values in 'Item_Visibility' with the mean\n",
    "    df.loc[df['Item_Visibility'] == 0, 'Item_Visibility'] = df['Item_Visibility'].mean()\n",
    "    \n",
    "    return df"
   ]
  },
  {
   "cell_type": "code",
   "execution_count": 0,
   "metadata": {
    "application/vnd.databricks.v1+cell": {
     "cellMetadata": {
      "byteLimit": 2048000,
      "rowLimit": 10000
     },
     "inputWidgets": {},
     "nuid": "43c711d9-b36d-4d18-a594-81bcb721808c",
     "showTitle": false,
     "title": ""
    }
   },
   "outputs": [
    {
     "output_type": "stream",
     "name": "stdout",
     "output_type": "stream",
     "text": [
      "(14204, 14)\n"
     ]
    },
    {
     "output_type": "execute_result",
     "data": {
      "text/html": [
       "<div>\n",
       "<style scoped>\n",
       "    .dataframe tbody tr th:only-of-type {\n",
       "        vertical-align: middle;\n",
       "    }\n",
       "\n",
       "    .dataframe tbody tr th {\n",
       "        vertical-align: top;\n",
       "    }\n",
       "\n",
       "    .dataframe thead th {\n",
       "        text-align: right;\n",
       "    }\n",
       "</style>\n",
       "<table border=\"1\" class=\"dataframe\">\n",
       "  <thead>\n",
       "    <tr style=\"text-align: right;\">\n",
       "      <th></th>\n",
       "      <th>Item_Identifier</th>\n",
       "      <th>Item_Weight</th>\n",
       "      <th>Item_Visibility</th>\n",
       "      <th>Item_Type</th>\n",
       "      <th>Item_MRP</th>\n",
       "      <th>Outlet_Identifier</th>\n",
       "      <th>Outlet_Establishment_Year</th>\n",
       "      <th>Outlet_Size</th>\n",
       "      <th>Outlet_Location_Type</th>\n",
       "      <th>Outlet_Type</th>\n",
       "      <th>Item_Outlet_Sales</th>\n",
       "      <th>from</th>\n",
       "      <th>Low_Fat</th>\n",
       "      <th>Regular</th>\n",
       "    </tr>\n",
       "  </thead>\n",
       "  <tbody>\n",
       "    <tr>\n",
       "      <th>0</th>\n",
       "      <td>FDA15</td>\n",
       "      <td>9.3000000000000000000</td>\n",
       "      <td>0.0160473010000000000</td>\n",
       "      <td>Dairy</td>\n",
       "      <td>249.8092000000000000000</td>\n",
       "      <td>OUT049</td>\n",
       "      <td>1999</td>\n",
       "      <td>Medium</td>\n",
       "      <td>Tier 1</td>\n",
       "      <td>Supermarket Type1</td>\n",
       "      <td>3735.1380000000000000000</td>\n",
       "      <td>train</td>\n",
       "      <td>1</td>\n",
       "      <td>0</td>\n",
       "    </tr>\n",
       "    <tr>\n",
       "      <th>1</th>\n",
       "      <td>DRC01</td>\n",
       "      <td>5.9200000000000000000</td>\n",
       "      <td>0.0192782160000000000</td>\n",
       "      <td>Soft Drinks</td>\n",
       "      <td>48.2692000000000000000</td>\n",
       "      <td>OUT018</td>\n",
       "      <td>2009</td>\n",
       "      <td>Medium</td>\n",
       "      <td>Tier 3</td>\n",
       "      <td>Supermarket Type2</td>\n",
       "      <td>443.4228000000000000000</td>\n",
       "      <td>train</td>\n",
       "      <td>0</td>\n",
       "      <td>1</td>\n",
       "    </tr>\n",
       "    <tr>\n",
       "      <th>2</th>\n",
       "      <td>FDN15</td>\n",
       "      <td>17.5000000000000000000</td>\n",
       "      <td>0.0167600750000000000</td>\n",
       "      <td>Meat</td>\n",
       "      <td>141.6180000000000000000</td>\n",
       "      <td>OUT049</td>\n",
       "      <td>1999</td>\n",
       "      <td>Medium</td>\n",
       "      <td>Tier 1</td>\n",
       "      <td>Supermarket Type1</td>\n",
       "      <td>2097.2700000000000000000</td>\n",
       "      <td>train</td>\n",
       "      <td>1</td>\n",
       "      <td>0</td>\n",
       "    </tr>\n",
       "    <tr>\n",
       "      <th>3</th>\n",
       "      <td>FDX07</td>\n",
       "      <td>19.2000000000000000000</td>\n",
       "      <td>0.065953</td>\n",
       "      <td>Fruits and Vegetables</td>\n",
       "      <td>182.0950000000000000000</td>\n",
       "      <td>OUT010</td>\n",
       "      <td>1998</td>\n",
       "      <td></td>\n",
       "      <td>Tier 3</td>\n",
       "      <td>Grocery Store</td>\n",
       "      <td>732.3800000000000000000</td>\n",
       "      <td>train</td>\n",
       "      <td>0</td>\n",
       "      <td>1</td>\n",
       "    </tr>\n",
       "    <tr>\n",
       "      <th>4</th>\n",
       "      <td>NCD19</td>\n",
       "      <td>8.9300000000000000000</td>\n",
       "      <td>0.065953</td>\n",
       "      <td>Household</td>\n",
       "      <td>53.8614000000000000000</td>\n",
       "      <td>OUT013</td>\n",
       "      <td>1987</td>\n",
       "      <td>High</td>\n",
       "      <td>Tier 3</td>\n",
       "      <td>Supermarket Type1</td>\n",
       "      <td>994.7052000000000000000</td>\n",
       "      <td>train</td>\n",
       "      <td>1</td>\n",
       "      <td>0</td>\n",
       "    </tr>\n",
       "    <tr>\n",
       "      <th>5</th>\n",
       "      <td>FDP36</td>\n",
       "      <td>10.3950000000000000000</td>\n",
       "      <td>0.065953</td>\n",
       "      <td>Baking Goods</td>\n",
       "      <td>51.4008000000000000000</td>\n",
       "      <td>OUT018</td>\n",
       "      <td>2009</td>\n",
       "      <td>Medium</td>\n",
       "      <td>Tier 3</td>\n",
       "      <td>Supermarket Type2</td>\n",
       "      <td>556.6088000000000000000</td>\n",
       "      <td>train</td>\n",
       "      <td>0</td>\n",
       "      <td>1</td>\n",
       "    </tr>\n",
       "    <tr>\n",
       "      <th>6</th>\n",
       "      <td>FDO10</td>\n",
       "      <td>13.6500000000000000000</td>\n",
       "      <td>0.0127410890000000000</td>\n",
       "      <td>Snack Foods</td>\n",
       "      <td>57.6588000000000000000</td>\n",
       "      <td>OUT013</td>\n",
       "      <td>1987</td>\n",
       "      <td>High</td>\n",
       "      <td>Tier 3</td>\n",
       "      <td>Supermarket Type1</td>\n",
       "      <td>343.5528000000000000000</td>\n",
       "      <td>train</td>\n",
       "      <td>0</td>\n",
       "      <td>1</td>\n",
       "    </tr>\n",
       "    <tr>\n",
       "      <th>7</th>\n",
       "      <td>FDP10</td>\n",
       "      <td>12.792854</td>\n",
       "      <td>0.1274698570000000000</td>\n",
       "      <td>Snack Foods</td>\n",
       "      <td>107.7622000000000000000</td>\n",
       "      <td>OUT027</td>\n",
       "      <td>1985</td>\n",
       "      <td>Medium</td>\n",
       "      <td>Tier 3</td>\n",
       "      <td>Supermarket Type3</td>\n",
       "      <td>4022.7636000000000000000</td>\n",
       "      <td>train</td>\n",
       "      <td>1</td>\n",
       "      <td>0</td>\n",
       "    </tr>\n",
       "    <tr>\n",
       "      <th>8</th>\n",
       "      <td>FDH17</td>\n",
       "      <td>16.2000000000000000000</td>\n",
       "      <td>0.0166871140000000000</td>\n",
       "      <td>Frozen Foods</td>\n",
       "      <td>96.9726000000000000000</td>\n",
       "      <td>OUT045</td>\n",
       "      <td>2002</td>\n",
       "      <td></td>\n",
       "      <td>Tier 2</td>\n",
       "      <td>Supermarket Type1</td>\n",
       "      <td>1076.5986000000000000000</td>\n",
       "      <td>train</td>\n",
       "      <td>0</td>\n",
       "      <td>1</td>\n",
       "    </tr>\n",
       "    <tr>\n",
       "      <th>9</th>\n",
       "      <td>FDU28</td>\n",
       "      <td>19.2000000000000000000</td>\n",
       "      <td>0.0944495900000000000</td>\n",
       "      <td>Frozen Foods</td>\n",
       "      <td>187.8214000000000000000</td>\n",
       "      <td>OUT017</td>\n",
       "      <td>2007</td>\n",
       "      <td></td>\n",
       "      <td>Tier 2</td>\n",
       "      <td>Supermarket Type1</td>\n",
       "      <td>4710.5350000000000000000</td>\n",
       "      <td>train</td>\n",
       "      <td>0</td>\n",
       "      <td>1</td>\n",
       "    </tr>\n",
       "  </tbody>\n",
       "</table>\n",
       "</div>"
      ],
      "text/plain": [
       "  Item_Identifier             Item_Weight  ... Low_Fat Regular\n",
       "0           FDA15   9.3000000000000000000  ...       1       0\n",
       "1           DRC01   5.9200000000000000000  ...       0       1\n",
       "2           FDN15  17.5000000000000000000  ...       1       0\n",
       "3           FDX07  19.2000000000000000000  ...       0       1\n",
       "4           NCD19   8.9300000000000000000  ...       1       0\n",
       "5           FDP36  10.3950000000000000000  ...       0       1\n",
       "6           FDO10  13.6500000000000000000  ...       0       1\n",
       "7           FDP10               12.792854  ...       1       0\n",
       "8           FDH17  16.2000000000000000000  ...       0       1\n",
       "9           FDU28  19.2000000000000000000  ...       0       1\n",
       "\n",
       "[10 rows x 14 columns]"
      ]
     },
     "execution_count": 9,
     "metadata": {},
     "output_type": "execute_result"
    }
   ],
   "source": [
    "df = preprocess_data(train_df, test_df)\n",
    "print(df.shape)\n",
    "df.head(10)"
   ]
  },
  {
   "cell_type": "markdown",
   "metadata": {
    "application/vnd.databricks.v1+cell": {
     "cellMetadata": {},
     "inputWidgets": {},
     "nuid": "a9946ac5-991d-4d3e-a548-c9cd672d5bdd",
     "showTitle": false,
     "title": ""
    }
   },
   "source": [
    "Exploratory Data Analysis"
   ]
  },
  {
   "cell_type": "code",
   "execution_count": 0,
   "metadata": {
    "application/vnd.databricks.v1+cell": {
     "cellMetadata": {
      "byteLimit": 2048000,
      "rowLimit": 10000
     },
     "inputWidgets": {},
     "nuid": "c17cf63b-d947-4020-b962-2dd006da506a",
     "showTitle": false,
     "title": ""
    }
   },
   "outputs": [
    {
     "output_type": "execute_result",
     "data": {
      "text/plain": [
       "Item_Identifier               1559\n",
       "Item_Weight                    416\n",
       "Item_Visibility              13006\n",
       "Item_Type                       16\n",
       "Item_MRP                      8052\n",
       "Outlet_Identifier               10\n",
       "Outlet_Establishment_Year        9\n",
       "Outlet_Size                      4\n",
       "Outlet_Location_Type             3\n",
       "Outlet_Type                      4\n",
       "Item_Outlet_Sales             3494\n",
       "from                             2\n",
       "Low_Fat                          2\n",
       "Regular                          2\n",
       "dtype: int64"
      ]
     },
     "execution_count": 10,
     "metadata": {},
     "output_type": "execute_result"
    }
   ],
   "source": [
    "df.apply(lambda x: len(x.unique()))"
   ]
  },
  {
   "cell_type": "code",
   "execution_count": 0,
   "metadata": {
    "application/vnd.databricks.v1+cell": {
     "cellMetadata": {
      "byteLimit": 2048000,
      "rowLimit": 10000
     },
     "inputWidgets": {},
     "nuid": "375693c7-f0ab-464e-b34b-2d06d067c097",
     "showTitle": false,
     "title": ""
    }
   },
   "outputs": [
    {
     "output_type": "execute_result",
     "data": {
      "text/html": [
       "<div>\n",
       "<style scoped>\n",
       "    .dataframe tbody tr th:only-of-type {\n",
       "        vertical-align: middle;\n",
       "    }\n",
       "\n",
       "    .dataframe tbody tr th {\n",
       "        vertical-align: top;\n",
       "    }\n",
       "\n",
       "    .dataframe thead th {\n",
       "        text-align: right;\n",
       "    }\n",
       "</style>\n",
       "<table border=\"1\" class=\"dataframe\">\n",
       "  <thead>\n",
       "    <tr style=\"text-align: right;\">\n",
       "      <th></th>\n",
       "      <th>Item_Outlet_Sales</th>\n",
       "    </tr>\n",
       "    <tr>\n",
       "      <th>Outlet_Type</th>\n",
       "      <th></th>\n",
       "    </tr>\n",
       "  </thead>\n",
       "  <tbody>\n",
       "    <tr>\n",
       "      <th>Grocery Store</th>\n",
       "      <td>339.828500</td>\n",
       "    </tr>\n",
       "    <tr>\n",
       "      <th>Supermarket Type1</th>\n",
       "      <td>2316.181148</td>\n",
       "    </tr>\n",
       "    <tr>\n",
       "      <th>Supermarket Type2</th>\n",
       "      <td>1995.498739</td>\n",
       "    </tr>\n",
       "    <tr>\n",
       "      <th>Supermarket Type3</th>\n",
       "      <td>3694.038558</td>\n",
       "    </tr>\n",
       "  </tbody>\n",
       "</table>\n",
       "</div>"
      ],
      "text/plain": [
       "                   Item_Outlet_Sales\n",
       "Outlet_Type                         \n",
       "Grocery Store             339.828500\n",
       "Supermarket Type1        2316.181148\n",
       "Supermarket Type2        1995.498739\n",
       "Supermarket Type3        3694.038558"
      ]
     },
     "execution_count": 11,
     "metadata": {},
     "output_type": "execute_result"
    }
   ],
   "source": [
    "df.pivot_table(index= \"Outlet_Type\", values=\"Item_Outlet_Sales\")"
   ]
  },
  {
   "cell_type": "code",
   "execution_count": 0,
   "metadata": {
    "application/vnd.databricks.v1+cell": {
     "cellMetadata": {
      "byteLimit": 2048000,
      "rowLimit": 10000
     },
     "inputWidgets": {},
     "nuid": "43ab7bc2-fffb-49ef-9fd6-f19f2a5aeafe",
     "showTitle": false,
     "title": ""
    }
   },
   "outputs": [
    {
     "output_type": "execute_result",
     "data": {
      "text/html": [
       "<div>\n",
       "<style scoped>\n",
       "    .dataframe tbody tr th:only-of-type {\n",
       "        vertical-align: middle;\n",
       "    }\n",
       "\n",
       "    .dataframe tbody tr th {\n",
       "        vertical-align: top;\n",
       "    }\n",
       "\n",
       "    .dataframe thead th {\n",
       "        text-align: right;\n",
       "    }\n",
       "</style>\n",
       "<table border=\"1\" class=\"dataframe\">\n",
       "  <thead>\n",
       "    <tr style=\"text-align: right;\">\n",
       "      <th></th>\n",
       "      <th>Item_Outlet_Sales</th>\n",
       "    </tr>\n",
       "    <tr>\n",
       "      <th>Outlet_Location_Type</th>\n",
       "      <th></th>\n",
       "    </tr>\n",
       "  </thead>\n",
       "  <tbody>\n",
       "    <tr>\n",
       "      <th>Tier 1</th>\n",
       "      <td>1876.909159</td>\n",
       "    </tr>\n",
       "    <tr>\n",
       "      <th>Tier 2</th>\n",
       "      <td>2323.990559</td>\n",
       "    </tr>\n",
       "    <tr>\n",
       "      <th>Tier 3</th>\n",
       "      <td>2279.627651</td>\n",
       "    </tr>\n",
       "  </tbody>\n",
       "</table>\n",
       "</div>"
      ],
      "text/plain": [
       "                      Item_Outlet_Sales\n",
       "Outlet_Location_Type                   \n",
       "Tier 1                      1876.909159\n",
       "Tier 2                      2323.990559\n",
       "Tier 3                      2279.627651"
      ]
     },
     "execution_count": 12,
     "metadata": {},
     "output_type": "execute_result"
    }
   ],
   "source": [
    "df.pivot_table(index=\"Outlet_Location_Type\", values=\"Item_Outlet_Sales\")"
   ]
  },
  {
   "cell_type": "code",
   "execution_count": 0,
   "metadata": {
    "application/vnd.databricks.v1+cell": {
     "cellMetadata": {
      "byteLimit": 2048000,
      "rowLimit": 10000
     },
     "inputWidgets": {},
     "nuid": "a82e7593-6685-40c9-b955-ee1de10cab8a",
     "showTitle": false,
     "title": ""
    }
   },
   "outputs": [
    {
     "output_type": "execute_result",
     "data": {
      "text/plain": [
       "<AxesSubplot:>"
      ]
     },
     "execution_count": 13,
     "metadata": {},
     "output_type": "execute_result"
    },
    {
     "output_type": "display_data",
     "data": {
      "image/png": "[encoded data removed]",
      "text/plain": [
       "<Figure size 640x480 with 1 Axes>"
      ]
     },
     "metadata": {},
     "output_type": "display_data"
    }
   ],
   "source": [
    "df.Item_Visibility.hist(bins=50)"
   ]
  },
  {
   "cell_type": "code",
   "execution_count": 0,
   "metadata": {
    "application/vnd.databricks.v1+cell": {
     "cellMetadata": {
      "byteLimit": 2048000,
      "rowLimit": 10000
     },
     "inputWidgets": {},
     "nuid": "76f1ff80-7729-4cf1-82c7-79742edeedb7",
     "showTitle": false,
     "title": ""
    }
   },
   "outputs": [
    {
     "output_type": "execute_result",
     "data": {
      "text/plain": [
       "<matplotlib.collections.PathCollection at 0x7fc4435e45b0>"
      ]
     },
     "execution_count": 14,
     "metadata": {},
     "output_type": "execute_result"
    },
    {
     "output_type": "display_data",
     "data": {
      "image/png": "[encoded data removed]",
      "text/plain": [
       "<Figure size 640x480 with 1 Axes>"
      ]
     },
     "metadata": {},
     "output_type": "display_data"
    }
   ],
   "source": [
    "plt.scatter(df.Item_Visibility, df.Item_Outlet_Sales)"
   ]
  },
  {
   "cell_type": "code",
   "execution_count": 0,
   "metadata": {
    "application/vnd.databricks.v1+cell": {
     "cellMetadata": {
      "byteLimit": 2048000,
      "rowLimit": 10000
     },
     "inputWidgets": {},
     "nuid": "e243da5f-20f9-412c-8cd5-9221ecf4cf94",
     "showTitle": false,
     "title": ""
    }
   },
   "outputs": [
    {
     "output_type": "execute_result",
     "data": {
      "text/plain": [
       "FD    10201\n",
       "NC     2686\n",
       "DR     1317\n",
       "Name: Item_Type_Combined, dtype: int64"
      ]
     },
     "execution_count": 15,
     "metadata": {},
     "output_type": "execute_result"
    }
   ],
   "source": [
    "df['Item_Type_Combined']=df.Item_Identifier.apply(lambda x:x[0:2])\n",
    "df['Item_Type_Combined'].value_counts()"
   ]
  },
  {
   "cell_type": "code",
   "execution_count": 0,
   "metadata": {
    "application/vnd.databricks.v1+cell": {
     "cellMetadata": {
      "byteLimit": 2048000,
      "rowLimit": 10000
     },
     "inputWidgets": {},
     "nuid": "c5ecf136-21dc-4f20-b69f-b51c5333eaff",
     "showTitle": false,
     "title": ""
    }
   },
   "outputs": [
    {
     "output_type": "execute_result",
     "data": {
      "text/plain": [
       "Food_Drink        10201\n",
       "Non_Consumable     2686\n",
       "Drinks             1317\n",
       "Name: Item_Type_Combined, dtype: int64"
      ]
     },
     "execution_count": 16,
     "metadata": {},
     "output_type": "execute_result"
    }
   ],
   "source": [
    "df[\"Item_Type_Combined\"]=df[\"Item_Type_Combined\"].map({\"FD\":\"Food_Drink\", \"NC\":\"Non_Consumable\", \"DR\":\"Drinks\"})\n",
    "df[\"Item_Type_Combined\"].value_counts()"
   ]
  },
  {
   "cell_type": "code",
   "execution_count": 0,
   "metadata": {
    "application/vnd.databricks.v1+cell": {
     "cellMetadata": {
      "byteLimit": 2048000,
      "rowLimit": 10000
     },
     "inputWidgets": {},
     "nuid": "d09a3957-c070-41e1-814b-1e9a6322a417",
     "showTitle": false,
     "title": ""
    }
   },
   "outputs": [],
   "source": [
    "df[\"Outlet_Years\"]=2013-df[\"Outlet_Establishment_Year\"]"
   ]
  },
  {
   "cell_type": "code",
   "execution_count": 0,
   "metadata": {
    "application/vnd.databricks.v1+cell": {
     "cellMetadata": {
      "byteLimit": 2048000,
      "rowLimit": 10000
     },
     "inputWidgets": {},
     "nuid": "ea85e5ac-acc4-4332-a931-f26ee034b527",
     "showTitle": false,
     "title": ""
    }
   },
   "outputs": [
    {
     "output_type": "execute_result",
     "data": {
      "text/plain": [
       "28    2439\n",
       "26    1553\n",
       "14    1550\n",
       "16    1550\n",
       "9     1550\n",
       "11    1548\n",
       "4     1546\n",
       "6     1543\n",
       "15     925\n",
       "Name: Outlet_Years, dtype: int64"
      ]
     },
     "execution_count": 18,
     "metadata": {},
     "output_type": "execute_result"
    }
   ],
   "source": [
    "df[\"Outlet_Years\"].value_counts()"
   ]
  },
  {
   "cell_type": "markdown",
   "metadata": {
    "application/vnd.databricks.v1+cell": {
     "cellMetadata": {},
     "inputWidgets": {},
     "nuid": "968b2f16-1f79-4ea0-90ec-0168e08dd759",
     "showTitle": false,
     "title": ""
    }
   },
   "source": [
    "Encoding"
   ]
  },
  {
   "cell_type": "code",
   "execution_count": 0,
   "metadata": {
    "application/vnd.databricks.v1+cell": {
     "cellMetadata": {
      "byteLimit": 2048000,
      "rowLimit": 10000
     },
     "inputWidgets": {},
     "nuid": "aed8f8f7-6046-4d05-950c-cbf8975cd715",
     "showTitle": false,
     "title": ""
    }
   },
   "outputs": [],
   "source": [
    "from sklearn.preprocessing import LabelEncoder, OneHotEncoder\n",
    "le = LabelEncoder()\n",
    "df['Outlet'] = le.fit_transform(df['Outlet_Identifier'])\n",
    "var_mod = ['Outlet_Location_Type','Outlet_Size','Item_Type_Combined','Outlet_Type','Outlet']\n",
    "le = LabelEncoder()\n",
    "for i in var_mod:\n",
    "    df[i] = le.fit_transform(df[i])"
   ]
  },
  {
   "cell_type": "markdown",
   "metadata": {
    "application/vnd.databricks.v1+cell": {
     "cellMetadata": {},
     "inputWidgets": {},
     "nuid": "9daaf392-7f65-4e5d-b589-bd61358e6a48",
     "showTitle": false,
     "title": ""
    }
   },
   "source": [
    "Feature Extraction"
   ]
  },
  {
   "cell_type": "code",
   "execution_count": 0,
   "metadata": {
    "application/vnd.databricks.v1+cell": {
     "cellMetadata": {
      "byteLimit": 2048000,
      "rowLimit": 10000
     },
     "inputWidgets": {},
     "nuid": "9daf1d58-33d0-4b7f-bf3d-f9a5b76cd39e",
     "showTitle": false,
     "title": ""
    }
   },
   "outputs": [],
   "source": [
    "def prepare_data(df):\n",
    "    \"\"\"\n",
    "    Prepares the given dataframe by performing the following steps:\n",
    "    \n",
    "    1. Drops specified columns: 'Item_Identifier', 'Item_Type', 'Outlet_Identifier', 'Outlet_Establishment_Year'.\n",
    "    2. Splits the dataframe into training (train1) and testing (test1) sets based on the 'from' column.\n",
    "    3. Drops the 'from' column from the training set and specified columns ('from', 'Item_Outlet_Sales') from the testing set.\n",
    "    4. Separates features (x_data) and target variable (y_data) from the training set.\n",
    "    \n",
    "    Parameters:\n",
    "    - df (pd.DataFrame): The input dataframe.\n",
    "    \n",
    "    Returns:\n",
    "    pd.DataFrame: The training set without the 'from' column.\n",
    "    pd.DataFrame: The testing set without the 'from' and 'Item_Outlet_Sales' columns.\n",
    "    pd.DataFrame: The features from the training set.\n",
    "    pd.Series: The target variable from the training set.\n",
    "    \"\"\"\n",
    "    # Drop specified columns\n",
    "    df.drop([\"Item_Identifier\", \"Item_Type\", \"Outlet_Identifier\", \"Outlet_Establishment_Year\"], axis=1, inplace=True)\n",
    "    \n",
    "    # Split into training and testing sets\n",
    "    train1 = df[df[\"from\"] == \"train\"]\n",
    "    test1 = df[df[\"from\"] == \"test\"]\n",
    "    \n",
    "    # Drop columns from training and testing sets\n",
    "    train1.drop(\"from\", axis=1, inplace=True)\n",
    "    test1.drop([\"from\", \"Item_Outlet_Sales\"], axis=1, inplace=True)\n",
    "    \n",
    "    # Separate features and target variable from the training set\n",
    "    x_data = train1.drop(\"Item_Outlet_Sales\", axis=1)\n",
    "    y_data = train1[\"Item_Outlet_Sales\"]\n",
    "    \n",
    "    return train1, test1, x_data, y_data"
   ]
  },
  {
   "cell_type": "code",
   "execution_count": 0,
   "metadata": {
    "application/vnd.databricks.v1+cell": {
     "cellMetadata": {
      "byteLimit": 2048000,
      "rowLimit": 10000
     },
     "inputWidgets": {},
     "nuid": "ddb6c052-00be-4fe7-8638-de78dbaf66fe",
     "showTitle": false,
     "title": ""
    }
   },
   "outputs": [
    {
     "output_type": "stream",
     "name": "stdout",
     "output_type": "stream",
     "text": [
      "(8523, 12) (5681, 11) (8523, 11) (8523,)\n"
     ]
    },
    {
     "output_type": "stream",
     "name": "stderr",
     "output_type": "stream",
     "text": [
      "/root/.ipykernel/957/command-652443100447062-1224607406:27: SettingWithCopyWarning: \nA value is trying to be set on a copy of a slice from a DataFrame\n\nSee the caveats in the documentation: https://pandas.pydata.org/pandas-docs/stable/user_guide/indexing.html#returning-a-view-versus-a-copy\n  train1.drop(\"from\", axis=1, inplace=True)\n/root/.ipykernel/957/command-652443100447062-1224607406:28: SettingWithCopyWarning: \nA value is trying to be set on a copy of a slice from a DataFrame\n\nSee the caveats in the documentation: https://pandas.pydata.org/pandas-docs/stable/user_guide/indexing.html#returning-a-view-versus-a-copy\n  test1.drop([\"from\", \"Item_Outlet_Sales\"], axis=1, inplace=True)\n"
     ]
    }
   ],
   "source": [
    "train_data, test_data, x_data, y_data = prepare_data(df)\n",
    "print(train_data.shape, test_data.shape, x_data.shape, y_data.shape)"
   ]
  },
  {
   "cell_type": "markdown",
   "metadata": {
    "application/vnd.databricks.v1+cell": {
     "cellMetadata": {},
     "inputWidgets": {},
     "nuid": "7775b96c-a9f5-4382-80d1-0b19b25e15fb",
     "showTitle": false,
     "title": ""
    }
   },
   "source": [
    "Data standardization"
   ]
  },
  {
   "cell_type": "code",
   "execution_count": 0,
   "metadata": {
    "application/vnd.databricks.v1+cell": {
     "cellMetadata": {
      "byteLimit": 2048000,
      "rowLimit": 10000
     },
     "inputWidgets": {},
     "nuid": "d75a2d2f-36ff-4b9b-a12b-01bd449881e5",
     "showTitle": false,
     "title": ""
    }
   },
   "outputs": [
    {
     "output_type": "stream",
     "name": "stdout",
     "output_type": "stream",
     "text": [
      "(8523, 11) (6818, 11) (1705, 11) (6818,) (1705,)\n"
     ]
    }
   ],
   "source": [
    "from sklearn.preprocessing import StandardScaler\n",
    "from sklearn.model_selection import train_test_split\n",
    "from sklearn.ensemble import RandomForestRegressor\n",
    "from sklearn.metrics import mean_squared_error\n",
    "\n",
    "def scale_and_split_data(features, target, test_size=0.2, random_state=42):\n",
    "    \"\"\"\n",
    "    Scales the input features using StandardScaler and performs train-test split.\n",
    "\n",
    "    Parameters:\n",
    "    - features (pd.DataFrame): The features dataframe.\n",
    "    - target (pd.Series): The target variable.\n",
    "    - test_size (float, optional): The proportion of the dataset to include in the test split.\n",
    "      Defaults to 0.2.\n",
    "    - random_state (int, optional): Controls the randomness of the training and testing indices.\n",
    "      Defaults to 42.\n",
    "\n",
    "    Returns:\n",
    "    pd.DataFrame: Scaled features dataframe.\n",
    "    pd.DataFrame: Scaled training features.\n",
    "    pd.DataFrame: Scaled testing features.\n",
    "    pd.Series: Training target variable.\n",
    "    pd.Series: Testing target variable.\n",
    "    \"\"\"\n",
    "    # Scale the features using StandardScaler\n",
    "    scaler = StandardScaler().fit(features)\n",
    "    scaled_features = pd.DataFrame(scaler.transform(features), columns=features.columns)\n",
    "    \n",
    "    # Perform train-test split\n",
    "    X_train, X_test, y_train, y_test = train_test_split(scaled_features, target, test_size=test_size, random_state=random_state)\n",
    "\n",
    "    return scaled_features, X_train, X_test, y_train, y_test\n",
    "\n",
    "# features and target already defined\n",
    "scaled_features, X_train, X_test, y_train, y_test = scale_and_split_data(x_data, y_data)\n",
    "print(scaled_features.shape, X_train.shape, X_test.shape, y_train.shape, y_test.shape)"
   ]
  },
  {
   "cell_type": "markdown",
   "metadata": {
    "application/vnd.databricks.v1+cell": {
     "cellMetadata": {},
     "inputWidgets": {},
     "nuid": "d1917e8d-73b8-4dfa-b02c-52ffbb3ec534",
     "showTitle": false,
     "title": ""
    }
   },
   "source": [
    "Model and Accuracy Metrics"
   ]
  },
  {
   "cell_type": "code",
   "execution_count": 0,
   "metadata": {
    "application/vnd.databricks.v1+cell": {
     "cellMetadata": {
      "byteLimit": 2048000,
      "rowLimit": 10000
     },
     "inputWidgets": {},
     "nuid": "39eaeedd-fad2-4383-bf37-f0586b79f2e7",
     "showTitle": false,
     "title": ""
    }
   },
   "outputs": [
    {
     "output_type": "stream",
     "name": "stdout",
     "output_type": "stream",
     "text": [
      "RMSE : 1084.0685710403811\n"
     ]
    }
   ],
   "source": [
    "def train_evaluate_random_forest(X_train, y_train, X_test, y_test, n_estimators=100, random_state=None):\n",
    "    \"\"\"\n",
    "    Trains a RandomForestRegressor, predicts on the test set, and calculates RMSE.\n",
    "\n",
    "    Parameters:\n",
    "    - X_train (pd.DataFrame): Training features.\n",
    "    - y_train (pd.Series): Training target variable.\n",
    "    - X_test (pd.DataFrame): Testing features.\n",
    "    - y_test (pd.Series): Testing target variable.\n",
    "    - n_estimators (int, optional): The number of trees in the forest. Defaults to 100.\n",
    "    - random_state (int, optional): Controls the randomness of the estimator. Defaults to None.\n",
    "\n",
    "    Returns:\n",
    "    RandomForestRegressor: Trained RandomForestRegressor model.\n",
    "    np.ndarray: Predicted values on the test set.\n",
    "    float: Root Mean Squared Error (RMSE) on the test set.\n",
    "    \"\"\"\n",
    "    # Initialize and train the RandomForestRegressor\n",
    "    RFmodel = RandomForestRegressor(n_estimators=n_estimators, n_jobs=-1, random_state=random_state)\n",
    "    RFmodel.fit(X_train, y_train)\n",
    "    \n",
    "    # Predict on the test set\n",
    "    y_pred = RFmodel.predict(X_test)\n",
    "    \n",
    "    # Calculate RMSE\n",
    "    mse = mean_squared_error(y_test, y_pred)\n",
    "    rmse = np.sqrt(mse)\n",
    "\n",
    "    return RFmodel, y_pred, rmse\n",
    "\n",
    "# X_train, y_train, X_test, and y_test already defined\n",
    "trained_model, y_pred, rmse = train_evaluate_random_forest(X_train, y_train, X_test, y_test)\n",
    "print(\"RMSE :\", rmse)"
   ]
  }
 ],
 "metadata": {
  "application/vnd.databricks.v1+notebook": {
   "dashboards": [],
   "language": "python",
   "notebookMetadata": {
    "mostRecentlyExecutedCommandWithImplicitDF": {
     "commandId": 744041221566173,
     "dataframes": [
      "_sqldf"
     ]
    },
    "pythonIndentUnit": 4
   },
   "notebookName": "predictive_modeling_using_datasphere_data",
   "widgets": {}
  }
 },
 "nbformat": 4,
 "nbformat_minor": 0
}
